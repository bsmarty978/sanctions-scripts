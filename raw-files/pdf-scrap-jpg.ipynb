{
 "cells": [
  {
   "cell_type": "code",
   "execution_count": 2,
   "metadata": {},
   "outputs": [],
   "source": [
    "import json\n",
    "import camelot"
   ]
  },
  {
   "cell_type": "code",
   "execution_count": 4,
   "metadata": {},
   "outputs": [
    {
     "name": "stderr",
     "output_type": "stream",
     "text": [
      "UserWarning: page-2 is image-based, camelot only works on text-based pages. [lattice.py:411]\n"
     ]
    }
   ],
   "source": [
    "tb = camelot.read_pdf(\"jpg-pd.pdf\",pages=\"2\")\n"
   ]
  },
  {
   "cell_type": "code",
   "execution_count": 9,
   "metadata": {},
   "outputs": [],
   "source": [
    "import json"
   ]
  },
  {
   "cell_type": "code",
   "execution_count": 10,
   "metadata": {},
   "outputs": [],
   "source": [
    "data = json.load(open(\"sng-719.json\"))"
   ]
  },
  {
   "cell_type": "code",
   "execution_count": 11,
   "metadata": {},
   "outputs": [],
   "source": [
    "for i in data:\n",
    "    i[\"comment\"] = \",\".join(i[\"comment\"]).strip()"
   ]
  },
  {
   "cell_type": "code",
   "execution_count": 12,
   "metadata": {},
   "outputs": [
    {
     "data": {
      "text/plain": [
       "{'uid': '6e4b2205aa9aca0b0860c020fbb7d2a9b22698c942e2c6294250051c0ed29b35',\n",
       " 'name': 'A.N.A. Compañía de Seguros, S.A.\\nde C.V.',\n",
       " 'alias_name': [],\n",
       " 'country': [],\n",
       " 'list_type': 'Individual',\n",
       " 'last_updated': '2022-05-19T04:20:52',\n",
       " 'individual_details': {},\n",
       " 'sanction_details': {},\n",
       " 'nns_status': False,\n",
       " 'address': [],\n",
       " 'documents': {},\n",
       " 'comment': 'Incorrect presentation of statistical information,Incorrect presentation of financial information,Extemporaneous presentation of financial information,Extemporaneous presentation of reinsurance information,Detachment from the Chart of Accounts,Late submission of statistical information,Incorrect presentation of reinsurance information,Accounting control deficiencies,Missing Coverage of Investment of Technical Reserves,Deviation in the constitution of technical reserves,Incorrect presentation of actuarial information',\n",
       " 'sanction_list': {'sl_authority': 'Mexican Insurance and Surety National Commission (Comisión Nacional de Seguros y Fianzas de México), Mexico',\n",
       "  'sl_url': 'https://www.gob.mx/cnsf/documentos/sanciones-a-instituciones-de-seguros',\n",
       "  'sl_host_country': 'Mexico',\n",
       "  'sl_type': 'Sanctions',\n",
       "  'watch_list': 'South and Central America Watchlists',\n",
       "  'sl_source': 'Mexican Insurance and Surety National Commission (Comisión Nacional de Seguros y Fianzas de México) Sanctions List, Mexico',\n",
       "  'sl_description': 'List of defaulter Directors by Ministry of Corporate Affairs, India.',\n",
       "  'list_id': 'MEX_E20209'}}"
      ]
     },
     "execution_count": 12,
     "metadata": {},
     "output_type": "execute_result"
    }
   ],
   "source": [
    "data[0]"
   ]
  },
  {
   "cell_type": "code",
   "execution_count": 15,
   "metadata": {},
   "outputs": [],
   "source": [
    "out_list = []\n",
    "for i in data:\n",
    "    if i[\"alias\"]:\n",
    "        i[\"alias\"] = [i[\"alias\"]]\n",
    "    else:\n",
    "        i[\"alias\"] = []\n",
    "    \n",
    "    cin = i[\"documents\"][\"CIN No.\"]\n",
    "    if cin:\n",
    "        i[\"documents\"][\"CIN\"] = [cin]\n",
    "    else:\n",
    "        i[\"documents\"][\"CIN\"] = []\n",
    "    del i[\"documents\"][\"CIN No.\"]\n",
    "\n",
    "    adr = []\n",
    "    adr.append({\n",
    "        \"complete_address\" : i[\"address\"][\"complete_address\"],\n",
    "        \"country\" : \"India\"\n",
    "    })\n",
    "    i[\"address\"] = adr"
   ]
  },
  {
   "cell_type": "code",
   "execution_count": 10,
   "metadata": {},
   "outputs": [
    {
     "data": {
      "text/plain": [
       "{'uid': 'a0d602ccda0302290b8fb3b3b044361176cfb392456c4b3910f48b940b540900',\n",
       " 'name': 'DigitSecure India Private Limited',\n",
       " 'alias': [],\n",
       " 'country': ['India'],\n",
       " 'list_type': 'Entity',\n",
       " 'last_updated': '2022-05-15T18:16:48',\n",
       " 'entity_details': {},\n",
       " 'documents': {'CIN': []},\n",
       " 'sanction_details': {'sl_authority': 'Reserve Bank of India, India',\n",
       "  'sl_url': 'https://rbi.org.in/',\n",
       "  'watch_list': 'India Watchlists',\n",
       "  'sl_type': 'Sanctions',\n",
       "  'sl_host_country': 'India',\n",
       "  'sl_source': 'Reserve Bank of India Cancelled License Entities, India',\n",
       "  'sl_description': 'List of cancelled Financial institutions by Reserve Bank of India, India',\n",
       "  'list_id': 'IND_E20166'},\n",
       " 'nns_status': 'False',\n",
       " 'address': [{'complete_address': 'Plot No: 1303 and 1304, 4th Floor, Khanamet, Hitech City, Ayappa Society, Madhapur, Hyderabad - 500 081',\n",
       "   'country': ''}],\n",
       " 'comment': ''}"
      ]
     },
     "execution_count": 10,
     "metadata": {},
     "output_type": "execute_result"
    }
   ],
   "source": [
    "data[0]"
   ]
  },
  {
   "cell_type": "code",
   "execution_count": 16,
   "metadata": {},
   "outputs": [],
   "source": [
    "with open('sng-719.json', \"w\",encoding='utf-8') as outfile:\n",
    "    json.dump(data, outfile,ensure_ascii=False,indent=2)"
   ]
  },
  {
   "cell_type": "code",
   "execution_count": 2,
   "metadata": {},
   "outputs": [],
   "source": [
    "a = [\"dsad\",\"132c\",\"yaa\"] \n",
    "b = [\"a\",\"12\",\"pl\"]"
   ]
  },
  {
   "cell_type": "code",
   "execution_count": 5,
   "metadata": {},
   "outputs": [],
   "source": [
    "a.extend(b)\n"
   ]
  },
  {
   "cell_type": "code",
   "execution_count": 6,
   "metadata": {},
   "outputs": [
    {
     "data": {
      "text/plain": [
       "['dsad', '132c', 'yaa', 'a', '12', 'pl', 'a', '12', 'pl']"
      ]
     },
     "execution_count": 6,
     "metadata": {},
     "output_type": "execute_result"
    }
   ],
   "source": [
    "a"
   ]
  }
 ],
 "metadata": {
  "interpreter": {
   "hash": "916dbcbb3f70747c44a77c7bcd40155683ae19c65e1c03b4aa3499c5328201f1"
  },
  "kernelspec": {
   "display_name": "Python 3.8.10 64-bit",
   "language": "python",
   "name": "python3"
  },
  "language_info": {
   "codemirror_mode": {
    "name": "ipython",
    "version": 3
   },
   "file_extension": ".py",
   "mimetype": "text/x-python",
   "name": "python",
   "nbconvert_exporter": "python",
   "pygments_lexer": "ipython3",
   "version": "3.8.10"
  },
  "orig_nbformat": 4
 },
 "nbformat": 4,
 "nbformat_minor": 2
}
