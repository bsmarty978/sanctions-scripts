{
 "cells": [
  {
   "cell_type": "code",
   "execution_count": 1,
   "metadata": {},
   "outputs": [],
   "source": [
    "import datetime\n",
    "import pandas as pd\n",
    "import hashlib\n",
    "import json\n",
    "import csv"
   ]
  },
  {
   "cell_type": "code",
   "execution_count": 2,
   "metadata": {},
   "outputs": [],
   "source": [
    "# def get_hash(n):\n",
    "    # return hashlib.sha256(n+\"Reserve Bank of India Cancelled License Entities, India\").lower().encode().hexdigest()\n",
    "\n",
    "def get_hash(n):\n",
    "    return hashlib.sha256(((n+\"Reserve Bank of India Cancelled License Entities, India\").lower()).encode()).hexdigest()\n",
    "\n",
    "\n",
    "\n",
    "\n",
    "last_updated_string = datetime.datetime.now().strftime(\"%Y-%m-%dT%H:%M:%S\")\n"
   ]
  },
  {
   "cell_type": "code",
   "execution_count": null,
   "metadata": {},
   "outputs": [],
   "source": []
  },
  {
   "cell_type": "code",
   "execution_count": 3,
   "metadata": {},
   "outputs": [
    {
     "name": "stderr",
     "output_type": "stream",
     "text": [
      "/tmp/ipykernel_2210217/207235118.py:5: FutureWarning: Using short name for 'orient' is deprecated. Only the options: ('dict', list, 'series', 'split', 'records', 'index') will be used in a future version. Use one of the above to silence this warning.\n",
      "  frame_ = df.to_dict(orient=\"record\")\n"
     ]
    }
   ],
   "source": [
    "df = pd.read_excel(\"RBI Cancelled NBFC.xlsx\")\n",
    "df.fillna(\"\", inplace=True)\n",
    "\n",
    "\n",
    "frame_ = df.to_dict(orient=\"record\")"
   ]
  },
  {
   "cell_type": "code",
   "execution_count": 18,
   "metadata": {},
   "outputs": [
    {
     "data": {
      "text/html": [
       "<div>\n",
       "<style scoped>\n",
       "    .dataframe tbody tr th:only-of-type {\n",
       "        vertical-align: middle;\n",
       "    }\n",
       "\n",
       "    .dataframe tbody tr th {\n",
       "        vertical-align: top;\n",
       "    }\n",
       "\n",
       "    .dataframe thead th {\n",
       "        text-align: right;\n",
       "    }\n",
       "</style>\n",
       "<table border=\"1\" class=\"dataframe\">\n",
       "  <thead>\n",
       "    <tr style=\"text-align: right;\">\n",
       "      <th></th>\n",
       "      <th>Sr. No.</th>\n",
       "      <th>Company Name</th>\n",
       "      <th>Alias</th>\n",
       "      <th>Registered Office Address</th>\n",
       "      <th>Certificate of Registration No</th>\n",
       "      <th>CoR Issue Date</th>\n",
       "      <th>Date of Cancellation</th>\n",
       "      <th>Reason for Cancellation</th>\n",
       "      <th>Link</th>\n",
       "      <th>CIN No.</th>\n",
       "    </tr>\n",
       "  </thead>\n",
       "  <tbody>\n",
       "    <tr>\n",
       "      <th>0</th>\n",
       "      <td>1</td>\n",
       "      <td>P C Financial Services Private Limited</td>\n",
       "      <td></td>\n",
       "      <td></td>\n",
       "      <td></td>\n",
       "      <td></td>\n",
       "      <td></td>\n",
       "      <td></td>\n",
       "      <td>https://www.rbi.org.in/Scripts/BS_PressRelease...</td>\n",
       "      <td></td>\n",
       "    </tr>\n",
       "    <tr>\n",
       "      <th>1</th>\n",
       "      <td>2</td>\n",
       "      <td>M/s Cartel Finance and Investments Private Lim...</td>\n",
       "      <td></td>\n",
       "      <td>KH. No. 773, Harcharan Bagh G/F, Andheria More...</td>\n",
       "      <td>B-14.01612</td>\n",
       "      <td>2000-03-08 00:00:00</td>\n",
       "      <td>2021-07-05 00:00:00</td>\n",
       "      <td></td>\n",
       "      <td>https://www.rbi.org.in/scripts/BS_PressRelease...</td>\n",
       "      <td></td>\n",
       "    </tr>\n",
       "    <tr>\n",
       "      <th>2</th>\n",
       "      <td>3</td>\n",
       "      <td>M/s Alamgir Motor Finance Limited</td>\n",
       "      <td></td>\n",
       "      <td>186, St. No. 2, Dashmesh Nagar, Gill Chowk, Lu...</td>\n",
       "      <td>A-06.00444</td>\n",
       "      <td>2009-11-16 00:00:00</td>\n",
       "      <td>2021-07-27 00:00:00</td>\n",
       "      <td></td>\n",
       "      <td>https://www.rbi.org.in/scripts/BS_PressRelease...</td>\n",
       "      <td></td>\n",
       "    </tr>\n",
       "    <tr>\n",
       "      <th>3</th>\n",
       "      <td>4</td>\n",
       "      <td>M/s Nau-Nidh Finance Limited</td>\n",
       "      <td></td>\n",
       "      <td>Ward No. 27, Raghbir Enclave, Opp. Shivalik En...</td>\n",
       "      <td>6.00155</td>\n",
       "      <td>1999-03-30 00:00:00</td>\n",
       "      <td>2021-07-27 00:00:00</td>\n",
       "      <td></td>\n",
       "      <td>https://www.rbi.org.in/scripts/BS_PressRelease...</td>\n",
       "      <td></td>\n",
       "    </tr>\n",
       "    <tr>\n",
       "      <th>4</th>\n",
       "      <td>5</td>\n",
       "      <td>M/s Kim Investment Limited</td>\n",
       "      <td></td>\n",
       "      <td>206-207, Chaudhary Complex, Hide Market, Amrit...</td>\n",
       "      <td>A-06.00541</td>\n",
       "      <td>2007-06-29 00:00:00</td>\n",
       "      <td>2021-09-01 00:00:00</td>\n",
       "      <td></td>\n",
       "      <td>https://www.rbi.org.in/scripts/BS_PressRelease...</td>\n",
       "      <td></td>\n",
       "    </tr>\n",
       "  </tbody>\n",
       "</table>\n",
       "</div>"
      ],
      "text/plain": [
       "   Sr. No.                                       Company Name Alias  \\\n",
       "0        1             P C Financial Services Private Limited         \n",
       "1        2  M/s Cartel Finance and Investments Private Lim...         \n",
       "2        3                  M/s Alamgir Motor Finance Limited         \n",
       "3        4                       M/s Nau-Nidh Finance Limited         \n",
       "4        5                         M/s Kim Investment Limited         \n",
       "\n",
       "                           Registered Office Address  \\\n",
       "0                                                      \n",
       "1  KH. No. 773, Harcharan Bagh G/F, Andheria More...   \n",
       "2  186, St. No. 2, Dashmesh Nagar, Gill Chowk, Lu...   \n",
       "3  Ward No. 27, Raghbir Enclave, Opp. Shivalik En...   \n",
       "4  206-207, Chaudhary Complex, Hide Market, Amrit...   \n",
       "\n",
       "  Certificate of Registration No       CoR Issue Date Date of Cancellation  \\\n",
       "0                                                                            \n",
       "1                     B-14.01612  2000-03-08 00:00:00  2021-07-05 00:00:00   \n",
       "2                     A-06.00444  2009-11-16 00:00:00  2021-07-27 00:00:00   \n",
       "3                        6.00155  1999-03-30 00:00:00  2021-07-27 00:00:00   \n",
       "4                     A-06.00541  2007-06-29 00:00:00  2021-09-01 00:00:00   \n",
       "\n",
       "  Reason for Cancellation                                               Link  \\\n",
       "0                          https://www.rbi.org.in/Scripts/BS_PressRelease...   \n",
       "1                          https://www.rbi.org.in/scripts/BS_PressRelease...   \n",
       "2                          https://www.rbi.org.in/scripts/BS_PressRelease...   \n",
       "3                          https://www.rbi.org.in/scripts/BS_PressRelease...   \n",
       "4                          https://www.rbi.org.in/scripts/BS_PressRelease...   \n",
       "\n",
       "  CIN No.  \n",
       "0          \n",
       "1          \n",
       "2          \n",
       "3          \n",
       "4          "
      ]
     },
     "execution_count": 18,
     "metadata": {},
     "output_type": "execute_result"
    }
   ],
   "source": [
    "df.head()"
   ]
  },
  {
   "cell_type": "code",
   "execution_count": 19,
   "metadata": {},
   "outputs": [],
   "source": [
    "# complete_address_ = rec['Registered Office Address'].lower().encode()"
   ]
  },
  {
   "cell_type": "code",
   "execution_count": 8,
   "metadata": {},
   "outputs": [],
   "source": [
    "bs_list = []\n",
    "\n",
    "for rec in frame_:\n",
    "    items = {}\n",
    "    \n",
    "    name_ = rec['Company Name']\n",
    "    \n",
    "    # complete_address_ = rec['Registered Office Address'].encode('utf-8')\n",
    "    \n",
    "    \n",
    "    items[\"uid\"] = get_hash(name_)\n",
    "\n",
    "    items['name'] = name_\n",
    "    items['alias'] = [rec['Alias']] if rec[\"Alias\"].strip() else []\n",
    "    items['country'] = [\"India\"]\n",
    "    items['list_type'] = \"Entity\"\n",
    "    items['last_updated'] = last_updated_string\n",
    "    items['entity_details'] = {}\n",
    "    items['documents'] = {}\n",
    "    items['documents']['CIN'] = [str(rec['CIN No.'])] if str(rec['CIN No.']).strip() else []\n",
    "    items['documents']['registration_no'] = [str(rec['Certificate of Registration No'])] if str(rec['Certificate of Registration No']).strip().strip() else [] \n",
    "    items['sanction_details'] = {}\n",
    "    items['sanction_details']['Date of Cancellation'] = rec['Date of Cancellation']\n",
    "    items['sanction_details']['Reason for Cancellation'] = rec['Reason for Cancellation']\n",
    "    items['nns_status'] = \"False\"\n",
    "    items['address'] = [{\n",
    "        \"complete_address\": rec['Registered Office Address'],\n",
    "        \"country\" : \"India\"\n",
    "    }]\n",
    "    items['comment'] = \"\"\n",
    "    items['sanction_list'] = {}\n",
    "    items['sanction_list']['sl_authority'] = \"Reserve Bank of India, India\"\n",
    "    items['sanction_list']['sl_url'] = \"https://rbi.org.in/\"\n",
    "    items['sanction_list']['watch_list'] = \"India Watchlists\"\n",
    "    items['sanction_list']['sl_type'] = \"Sanctions\"\n",
    "    items['sanction_list']['sl_host_country'] = \"India\"\n",
    "    items['sanction_list']['sl_source'] = \"Reserve Bank of India Cancelled NBFC Entities, India\"\n",
    "    items['sanction_list']['sl_description'] = \"List of cancelled NBFCs by Reserve Bank of India, India\"\n",
    "    items['sanction_list']['list_id'] = \"IND_E20003\"\n",
    "    bs_list.append(items)"
   ]
  },
  {
   "cell_type": "code",
   "execution_count": 6,
   "metadata": {},
   "outputs": [
    {
     "data": {
      "text/plain": [
       "{'uid': '3c26d0a6a946ec9cb4761da4a2820ef00a6024e324ef9b508b5c57d0512f6c62',\n",
       " 'name': 'Subham Financial Services Private Limited',\n",
       " 'alias': [],\n",
       " 'country': ['India'],\n",
       " 'list_type': 'Entity',\n",
       " 'last_updated': '2022-05-19T08:27:15',\n",
       " 'entity_details': {},\n",
       " 'documents': {'CIN': [], 'registration_no': ['B-05.06103']},\n",
       " 'sanction_details': {'sl_authority': 'Reserve Bank of India, India',\n",
       "  'sl_url': 'https://rbi.org.in/',\n",
       "  'watch_list': 'India Watchlists',\n",
       "  'sl_type': 'Sanctions',\n",
       "  'sl_host_country': 'India',\n",
       "  'sl_source': 'Reserve Bank of India Cancelled NBFC Entities, India',\n",
       "  'sl_description': 'List of cancelled NBFCs by Reserve Bank of India, India',\n",
       "  'list_id': 'IND_E20003'},\n",
       " 'nns_status': 'False',\n",
       " 'address': [{'complete_address': '537, City Centre, 19, Synagogue Street, Kolkata-700 001, West Bengal',\n",
       "   'country': 'India'}],\n",
       " 'comment': ''}"
      ]
     },
     "execution_count": 6,
     "metadata": {},
     "output_type": "execute_result"
    }
   ],
   "source": [
    "bs_list[406]"
   ]
  },
  {
   "cell_type": "code",
   "execution_count": 9,
   "metadata": {},
   "outputs": [],
   "source": [
    "with open('SNG-734.json', 'w', encoding=\"utf-8\") as file:\n",
    "    json.dump(bs_list, file, ensure_ascii=False, indent=2, default=str)"
   ]
  },
  {
   "cell_type": "code",
   "execution_count": null,
   "metadata": {},
   "outputs": [],
   "source": []
  }
 ],
 "metadata": {
  "interpreter": {
   "hash": "916dbcbb3f70747c44a77c7bcd40155683ae19c65e1c03b4aa3499c5328201f1"
  },
  "kernelspec": {
   "display_name": "Python 3.8.10 64-bit",
   "language": "python",
   "name": "python3"
  },
  "language_info": {
   "codemirror_mode": {
    "name": "ipython",
    "version": 3
   },
   "file_extension": ".py",
   "mimetype": "text/x-python",
   "name": "python",
   "nbconvert_exporter": "python",
   "pygments_lexer": "ipython3",
   "version": "3.8.10"
  },
  "orig_nbformat": 4
 },
 "nbformat": 4,
 "nbformat_minor": 2
}
