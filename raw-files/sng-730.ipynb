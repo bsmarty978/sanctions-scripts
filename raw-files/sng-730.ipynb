{
 "cells": [
  {
   "cell_type": "code",
   "execution_count": 19,
   "metadata": {},
   "outputs": [],
   "source": [
    "import pandas as pd\n",
    "import json\n",
    "import hashlib\n",
    "from datetime import datetime\n"
   ]
  },
  {
   "cell_type": "code",
   "execution_count": 20,
   "metadata": {},
   "outputs": [],
   "source": [
    "last_updated_string = datetime.now().strftime(\"%Y-%m-%dT%H:%M:%S\")\n",
    "def get_hash(n):\n",
    "    return hashlib.sha256(((n+\"Tax Defaulters List, India (India Watchlists IND_E20165)\").lower()).encode()).hexdigest()    \n",
    "            "
   ]
  },
  {
   "cell_type": "code",
   "execution_count": 67,
   "metadata": {},
   "outputs": [],
   "source": [
    "df = pd.read_excel(\"Tax Defaulter. (1).xlsx\")\n",
    "df.fillna(\"\",inplace=True)"
   ]
  },
  {
   "cell_type": "code",
   "execution_count": 68,
   "metadata": {},
   "outputs": [
    {
     "data": {
      "text/plain": [
       "Index(['Title Sorted Ascending Open Menu', 'Type', 'Address', 'Father Name',\n",
       "       'Director ', 'Date of Birth Open Menu', 'PAN', 'Source of Income',\n",
       "       'Tax Arrear', 'Year Prefix', 'CMSID', 'Category of Assessee Open Menu',\n",
       "       'Income Tax Authority', 'Remarks', 'Sort Order', 'Active', 'Modified',\n",
       "       'Modified By'],\n",
       "      dtype='object')"
      ]
     },
     "execution_count": 68,
     "metadata": {},
     "output_type": "execute_result"
    }
   ],
   "source": [
    "df.columns"
   ]
  },
  {
   "cell_type": "code",
   "execution_count": 74,
   "metadata": {},
   "outputs": [],
   "source": [
    "out_list = []\n",
    "for i,row in df.astype(str).iterrows():\n",
    "    pass_dict = {}\n",
    "    name = row[\"Title Sorted Ascending Open Menu\"]\n",
    "    ltype = row[\"Type\"]\n",
    "    comp = row[\"Address\"]\n",
    "    fname = row[\"Father Name\"].strip('\\u200b').strip()  #NOTE : ISSUES\n",
    "    ftype = row[\"Director \"]\n",
    "    dob = row[\"Date of Birth Open Menu\"]\n",
    "    pan = row[\"PAN\"]\n",
    "    tax_a = row[\"Tax Arrear\"]\n",
    "\n",
    "    pass_dict[\"uid\"] = get_hash(name)\n",
    "    pass_dict[\"name\"] = name\n",
    "    pass_dict[\"alias_name\"] = []\n",
    "    pass_dict[\"country\"] = [\"India\"]\n",
    "\n",
    "    pass_dict[\"family_tree\"] = {}\n",
    "\n",
    "    st = \"1. \"+fname\n",
    "    flist = []\n",
    "    for i in range(1,6):\n",
    "        n = st.split(f\"{i}. \")[0]\n",
    "        # print(n)\n",
    "        if n.strip():\n",
    "            flist.append(n)\n",
    "        st = st.split(f\"{i}. \")[-1]\n",
    "    \n",
    "\n",
    "    if ltype == \"Entity\":\n",
    "        pass_dict[\"list_type\"] = \"Entity\"\n",
    "        pass_dict[\"entity_details\"] = {}            \n",
    "        # pass_dict[\"family_tree\"][\"Associate\"] = []\n",
    "        # st = \"1. \"+fname\n",
    "        # flist = []\n",
    "\n",
    "        # for i in range(1,6):\n",
    "        #     n = st.split(f\"{i}. \")[0]\n",
    "        #     # print(n)\n",
    "        #     if n.strip():\n",
    "        #         flist.append(n)\n",
    "        #     st = st.split(f\"{i}. \")[-1]\n",
    "\n",
    "        pass_dict[\"family_tree\"][\"Associate\"] = flist\n",
    "\n",
    "    if ltype == \"Individual\":\n",
    "        pass_dict[\"list_type\"] = \"Individual\"\n",
    "        pass_dict[\"Individual_details\"] = {}\n",
    "        if dob.strip():\n",
    "            pass_dict[\"Individual_details\"][\"date_of_birth\"]= [dob]\n",
    "        else:\n",
    "            pass_dict[\"Individual_details\"][\"date_of_birth\"]= []\n",
    "        pass_dict[\"relationship_details\"] = {}\n",
    "        try:\n",
    "            pass_dict[\"relationship_details\"][\"father\"] = flist[0]\n",
    "        except:\n",
    "            pass_dict[\"relationship_details\"][\"father\"] = \"\"\n",
    "\n",
    "\n",
    "    pass_dict[\"last_updated\"] = last_updated_string\n",
    "    pass_dict[\"list_id\"] = \"IND_E20165\"\n",
    "    pass_dict[\"nns_status\"] = \"False\"\n",
    "\n",
    "    pass_dict[\"address\"] = [{\n",
    "        \"complete_address\" : comp,\n",
    "        \"country\" : \"India\"\n",
    "    }]\n",
    "    pass_dict[\"sanction_details\"] = {\n",
    "        \"sanctions_body\" : f\"Tax Arrear : {tax_a}\" \n",
    "    }\n",
    "    pass_dict[\"documents\"] ={}\n",
    "    if pan and \"GIR NO\" not in pan:\n",
    "        pass_dict[\"documents\"][\"pan\"] = [pan]\n",
    "    else:\n",
    "        pass_dict[\"documents\"][\"pan\"] = []\n",
    "\n",
    "    pass_dict[\"comment\"] = \"\"\n",
    "    pass_dict[\"sanction_list\"] = {\n",
    "            \"sl_authority\": \"Central Board of Direct Taxes (CBDT), Department of Revenue, Ministry of Finance, Government of India\",\n",
    "            \"sl_url\": \"https://office.incometaxindia.gov.in/administration/Lists/Tax%20Defaulters/AllItems.aspx\",\n",
    "            \"watch_list\": \"India Watchlists\",\n",
    "            \"sl_host_country\": \"India\",\n",
    "            \"sl_type\": \"Sanctions\",\n",
    "            \"sl_source\": \"Tax Defaulters List, India\",\n",
    "            \"sl_description\": \"The list of individuals and entities who have failed to pay by Central Board of Direct Taxes (CBDT), Department of Revenue, Ministry of Finance, Government of India\"\n",
    "        }\n",
    "    out_list.append(pass_dict)\n",
    "\n",
    "\n",
    "\n",
    "\n"
   ]
  },
  {
   "cell_type": "code",
   "execution_count": 75,
   "metadata": {},
   "outputs": [
    {
     "data": {
      "text/plain": [
       "{'uid': '09b286841f0cf058acd26271706de3985091764a2fb7bd91124480e3764b0c9c',\n",
       " 'name': 'ATUL JASHVANTRAI MEHTA',\n",
       " 'alias_name': [],\n",
       " 'country': ['India'],\n",
       " 'family_tree': {},\n",
       " 'list_type': 'Individual',\n",
       " 'Individual_details': {'date_of_birth': ['1966-12-07']},\n",
       " 'relationship_details': {'father': 'JASHVANTRAI RATILAL MEHTA'},\n",
       " 'last_updated': '2022-05-10T07:10:27',\n",
       " 'list_id': 'IND_E20165',\n",
       " 'nns_status': 'False',\n",
       " 'address': {'complete_address': '54/A, 4TH FLOOR HIMATNAGAR, MANDPESHWAR RD. OPP GOKUL HOTEL NEAR MCF, BORIVALI (W) MUMBAI-400092',\n",
       "  'country': 'India'},\n",
       " 'sanction_details': {'sanctions_body': 'Tax Arrear : 33.64'},\n",
       " 'documents': {'pan': ['ACEPM7953Q']},\n",
       " 'comment': '',\n",
       " 'sanction_list': {'sl_authority': 'Central Board of Direct Taxes (CBDT), Department of Revenue, Ministry of Finance, Government of India',\n",
       "  'sl_url': 'https://office.incometaxindia.gov.in/administration/Lists/Tax%20Defaulters/AllItems.aspx',\n",
       "  'watch_list': 'India Watchlists',\n",
       "  'sl_host_country': 'India',\n",
       "  'sl_type': 'Sanctions',\n",
       "  'sl_source': 'Tax Defaulters List, India',\n",
       "  'sl_description': 'The list of individuals and entities who have failed to pay by Central Board of Direct Taxes (CBDT), Department of Revenue, Ministry of Finance, Government of India'}}"
      ]
     },
     "execution_count": 75,
     "metadata": {},
     "output_type": "execute_result"
    }
   ],
   "source": [
    "out_list[2]"
   ]
  },
  {
   "cell_type": "code",
   "execution_count": 77,
   "metadata": {},
   "outputs": [],
   "source": [
    "with open(f'tex-def.json', \"w\",encoding='utf-8') as outfile:\n",
    "    json.dump(out_list, outfile,ensure_ascii=False,indent=2)"
   ]
  },
  {
   "cell_type": "code",
   "execution_count": 60,
   "metadata": {},
   "outputs": [],
   "source": [
    "st = \"1. PATEL ANKIT C. 2. PAREKH JAYESH A. 3. PATEL ASIT N. 4. PATEL MANISHBHAI N.\"\n"
   ]
  },
  {
   "cell_type": "code",
   "execution_count": 61,
   "metadata": {},
   "outputs": [
    {
     "name": "stdout",
     "output_type": "stream",
     "text": [
      "\n",
      "PATEL ANKIT C. \n",
      "PAREKH JAYESH A. \n",
      "PATEL ASIT N. \n",
      "PATEL MANISHBHAI N.\n"
     ]
    }
   ],
   "source": [
    "st = \"1. PATEL ANKIT C. 2. PAREKH JAYESH A. 3. PATEL ASIT N. 4. PATEL MANISHBHAI N.\"\n",
    "for i in range(1,6):\n",
    "    print(st.split(f\"{i}. \")[0])\n",
    "    st = st.split(f\"{i}. \")[-1]"
   ]
  },
  {
   "cell_type": "code",
   "execution_count": 45,
   "metadata": {},
   "outputs": [
    {
     "data": {
      "text/plain": [
       "'PATEL MANISHBHAI N.'"
      ]
     },
     "execution_count": 45,
     "metadata": {},
     "output_type": "execute_result"
    }
   ],
   "source": [
    "st"
   ]
  },
  {
   "cell_type": "code",
   "execution_count": 78,
   "metadata": {},
   "outputs": [],
   "source": [
    "data = json.load(open(\"tex-def.json\"))"
   ]
  },
  {
   "cell_type": "code",
   "execution_count": 79,
   "metadata": {},
   "outputs": [
    {
     "data": {
      "text/plain": [
       "{'uid': 'ba8fbc1bc2b9741293dc07ef29f59b53ddc8606e53bf9d7f34c20dbf0bb5b2b1',\n",
       " 'name': '21ST CENTURY INVESTMENTS AND PROPERTIES PVT LTD.',\n",
       " 'alias_name': [],\n",
       " 'country': ['India'],\n",
       " 'family_tree': {'Associate': ['RAMAKRISNA ABBURI ',\n",
       "   'LATHA ABBURI',\n",
       "   'LATHA ABBURI',\n",
       "   'LATHA ABBURI']},\n",
       " 'list_type': 'Entity',\n",
       " 'entity_details': {},\n",
       " 'last_updated': '2022-05-10T07:10:27',\n",
       " 'list_id': 'IND_E20165',\n",
       " 'nns_status': 'False',\n",
       " 'address': [{'complete_address': 'FLAT NO. 18 NIZAMPET ROAD, VERTEX PRIVILEGE, VENTURE NO. 1 KUKATPALLY, HYDERABAD.',\n",
       "   'country': 'India'}],\n",
       " 'sanction_details': {'sanctions_body': 'Tax Arrear : 9.82'},\n",
       " 'documents': {'pan': ['AAACZ2590H']},\n",
       " 'comment': '',\n",
       " 'sanction_list': {'sl_authority': 'Central Board of Direct Taxes (CBDT), Department of Revenue, Ministry of Finance, Government of India',\n",
       "  'sl_url': 'https://office.incometaxindia.gov.in/administration/Lists/Tax%20Defaulters/AllItems.aspx',\n",
       "  'watch_list': 'India Watchlists',\n",
       "  'sl_host_country': 'India',\n",
       "  'sl_type': 'Sanctions',\n",
       "  'sl_source': 'Tax Defaulters List, India',\n",
       "  'sl_description': 'The list of individuals and entities who have failed to pay by Central Board of Direct Taxes (CBDT), Department of Revenue, Ministry of Finance, Government of India'}}"
      ]
     },
     "execution_count": 79,
     "metadata": {},
     "output_type": "execute_result"
    }
   ],
   "source": [
    "data[0]"
   ]
  }
 ],
 "metadata": {
  "interpreter": {
   "hash": "916dbcbb3f70747c44a77c7bcd40155683ae19c65e1c03b4aa3499c5328201f1"
  },
  "kernelspec": {
   "display_name": "Python 3.8.10 64-bit",
   "language": "python",
   "name": "python3"
  },
  "language_info": {
   "codemirror_mode": {
    "name": "ipython",
    "version": 3
   },
   "file_extension": ".py",
   "mimetype": "text/x-python",
   "name": "python",
   "nbconvert_exporter": "python",
   "pygments_lexer": "ipython3",
   "version": "3.8.10"
  },
  "orig_nbformat": 4
 },
 "nbformat": 4,
 "nbformat_minor": 2
}
