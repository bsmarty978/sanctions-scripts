{
 "cells": [
  {
   "cell_type": "code",
   "execution_count": 2,
   "metadata": {},
   "outputs": [],
   "source": [
    "import requests\n",
    "import json\n",
    "from scrapy.http import HtmlResponse\n",
    "import camelot\n",
    "import pandas as pd"
   ]
  },
  {
   "cell_type": "code",
   "execution_count": 4,
   "metadata": {},
   "outputs": [
    {
     "name": "stderr",
     "output_type": "stream",
     "text": [
      "UserWarning: No tables found in table area 1 [stream.py:365]\n"
     ]
    }
   ],
   "source": [
    "import camelot\n",
    "tb =  camelot.read_pdf(\"/home/ubuntu/sanctions-scripts/ThailandYdesignated_2022YMay_6561.pdf\",pages=\"all\",flavor=\"stream\")\n"
   ]
  },
  {
   "cell_type": "code",
   "execution_count": 6,
   "metadata": {},
   "outputs": [
    {
     "name": "stdout",
     "output_type": "stream",
     "text": [
      "41\n"
     ]
    }
   ],
   "source": [
    "from PyPDF2 import PdfFileReader, PdfFileWriter\n",
    "\n",
    "reader = PdfFileReader(\"/home/ubuntu/sanctions-scripts/ThailandYdesignated_2022YMay_6561.pdf\")\n",
    "number_of_pages = len(reader.pages)\n",
    "print(number_of_pages)\n"
   ]
  },
  {
   "cell_type": "code",
   "execution_count": 12,
   "metadata": {},
   "outputs": [
    {
     "data": {
      "text/plain": [
       "'Thailand designated list \\n(\\nUpdated as of \\nMay\\n \\n2022\\n)\\n \\n \\nTHi0001\\n\\n \\nName\\n\\nAMRAN \\n\\nMING\\n \\nName \\n\\noriginal script\\n\\n\\n\\n\\n\\n \\nTitle\\n\\nMr\\n\\n  \\nDOB\\n\\n18 DEC 1981\\n  \\nNationality\\n\\nThai\\n  \\nPassport no\\n\\nN\\n/\\nA\\n\\n \\nNational identification\\n\\n5\\n\\n9605\\n\\n00028\\n\\n10\\n\\n1\\n\\n \\nAddress\\n\\n4\\n\\n1, Moo 5, Ra\\n\\nngae\\n\\nDistrict, \\nBa\\n-\\nn\\ngo\\n \\nS\\nato Sub\\n\\ndistrict, Narathiwat \\n\\nDesignated on\\n\\n9 May 2013 \\n\\n \\nOther\\n\\ninformation\\n\\nheight 169 centimeters\\n \\n \\nTHi0003\\n \\nName\\n\\nABDULLOH \\n\\nMAMING\\n \\nName \\n\\noriginal script\\n\\n\\n\\n\\n\\n \\nTitle\\n\\nMr\\n\\n  \\nDOB\\n\\n1 JUL 1982\\n  \\nNationality\\n\\nThai\\n  \\nPassport no\\n\\nN\\n/\\nA\\n\\n \\nNational identification\\n\\n3\\n\\n9605\\n\\n00206\\n\\n04\\n\\n6\\n\\nAddress\\n\\n123, Moo 10, Ra\\n\\nngae\\n\\nDistrict, \\nTanyong Mat\\n \\nSub\\n\\ndistrict, Narathiwat \\n\\nDesignated on\\n\\n9 May 2013 \\n \\nOther \\ninformation\\n\\nheight 157 centimeters\\n \\n \\nTHi0005\\n \\nName\\n\\nROWI \\n\\nHAYIDING\\n \\nName \\n\\noriginal script\\n\\n\\n\\n\\n\\n \\nTitle\\n\\nMr\\n\\n  \\nDOB\\n\\n7 MAY 1987 \\n \\nNationality\\n\\nThai\\n  \\nPassport no\\n\\nN\\n/\\nA\\n\\n \\nNational identification\\n\\n2\\n\\n9604\\n\\n00008\\n\\n13\\n\\n9\\n\\n \\nAddress\\n\\n61, Moo 6, Ra\\n\\nngae\\n\\nDistrict, \\nTanyong Mat\\n \\nSub\\n\\ndistrict, Narathiwat \\n\\nDesignated on\\n\\n10 May 2013 \\nOther \\ninformation\\n\\nheight 165 centimeters\\n \\n \\nTHi0006\\n \\nName\\n\\nMADAREE\\n\\n \\nWALUNG\\n \\nName \\n\\noriginal script\\n\\n\\n\\n\\n\\n \\nTitle\\n\\nMr\\n\\n \\nDOB\\n\\n22 JUN 1976\\n  \\nNationality\\n\\nThai\\n  \\nPassport no\\n\\nN\\n/\\nA\\n\\n \\nNational identification\\n\\n3\\n\\n9604\\n\\n00260\\n\\n56\\n\\n1\\n\\n \\nAddress\\n\\n47\\n\\n1, Moo \\n5, Yi\\n\\nngo\\n\\nDistrict, \\nTapoyo\\n \\nSub\\n\\ndistrict, Narathiwat \\n\\nDesignated on\\n\\n10 May 2013 \\n \\nOther\\n\\ninformation\\n\\nheight 158 centimeters\\n \\n \\nTHi0007\\n \\nName\\n\\nABDULTOLEH \\n\\nBAYOHKASEH\\n \\nName \\n\\noriginal script\\n\\n\\n\\n\\n\\n \\nTitle\\n\\nMr\\n\\n  \\nDOB\\n\\n2\\n0\\n \\nJAN 1983 \\n \\nNationality\\n\\nThai\\n  \\nPassport no\\n\\nOT0537103\\n \\nNational identification\\n\\n3\\n\\n9605\\n\\n00431\\n\\n03\\n\\n1\\n \\nAddress\\n\\n64\\n\\n2, Moo 4, Ra\\n\\nngae\\n\\nDistrict, \\nChaloem\\n \\nSub\\n\\ndistrict, Narathiwat\\n\\nDesignated on\\n\\n10 May 2013 \\n \\nOther\\n\\ninformation\\n\\nheight 154 centimeters\\n \\n \\n \\n'"
      ]
     },
     "execution_count": 12,
     "metadata": {},
     "output_type": "execute_result"
    }
   ],
   "source": [
    "page = reader.pages[0]\n",
    "data = page.extractText()\n",
    "data.split()"
   ]
  },
  {
   "cell_type": "code",
   "execution_count": 23,
   "metadata": {},
   "outputs": [
    {
     "data": {
      "text/plain": [
       "'THi0007\\n \\nName\\n\\nABDULTOLEH \\n\\nBAYOHKASEH\\n \\nName \\n\\noriginal script\\n\\n\\n\\n\\n\\n \\nTitle\\n\\nMr\\n\\n  \\nDOB\\n\\n2\\n0\\n \\nJAN 1983 \\n \\nNationality\\n\\nThai\\n  \\nPassport no\\n\\nOT0537103\\n \\nNational identification\\n\\n3\\n\\n9605\\n\\n00431\\n\\n03\\n\\n1\\n \\nAddress\\n\\n64\\n\\n2, Moo 4, Ra\\n\\nngae\\n\\nDistrict, \\nChaloem\\n \\nSub\\n\\ndistrict, Narathiwat\\n\\nDesignated on\\n\\n10 May 2013 \\n \\nOther\\n\\ninformation\\n\\nheight 154 centimeters'"
      ]
     },
     "execution_count": 23,
     "metadata": {},
     "output_type": "execute_result"
    }
   ],
   "source": [
    "data.split(\"\\n \\n \\n\")[-2]"
   ]
  },
  {
   "cell_type": "code",
   "execution_count": 7,
   "metadata": {},
   "outputs": [
    {
     "data": {
      "text/plain": [
       "['__class__',\n",
       " '__delattr__',\n",
       " '__dict__',\n",
       " '__dir__',\n",
       " '__doc__',\n",
       " '__eq__',\n",
       " '__format__',\n",
       " '__ge__',\n",
       " '__getattribute__',\n",
       " '__gt__',\n",
       " '__hash__',\n",
       " '__init__',\n",
       " '__init_subclass__',\n",
       " '__le__',\n",
       " '__lt__',\n",
       " '__module__',\n",
       " '__ne__',\n",
       " '__new__',\n",
       " '__reduce__',\n",
       " '__reduce_ex__',\n",
       " '__repr__',\n",
       " '__setattr__',\n",
       " '__sizeof__',\n",
       " '__str__',\n",
       " '__subclasshook__',\n",
       " '__weakref__',\n",
       " '_authenticateUserPassword',\n",
       " '_buildDestination',\n",
       " '_buildField',\n",
       " '_buildOutline',\n",
       " '_checkKids',\n",
       " '_decrypt',\n",
       " '_decryptObject',\n",
       " '_flatten',\n",
       " '_getObjectFromStream',\n",
       " '_getPageNumberByIndirect',\n",
       " '_override_encryption',\n",
       " '_pageId2Num',\n",
       " '_pairs',\n",
       " '_writeField',\n",
       " '_zeroXref',\n",
       " 'cacheGetIndirectObject',\n",
       " 'cacheIndirectObject',\n",
       " 'decrypt',\n",
       " 'documentInfo',\n",
       " 'flattenedPages',\n",
       " 'getDestinationPageNumber',\n",
       " 'getDocumentInfo',\n",
       " 'getFields',\n",
       " 'getFormTextFields',\n",
       " 'getIsEncrypted',\n",
       " 'getNamedDestinations',\n",
       " 'getNumPages',\n",
       " 'getObject',\n",
       " 'getOutlines',\n",
       " 'getPage',\n",
       " 'getPageLayout',\n",
       " 'getPageMode',\n",
       " 'getPageNumber',\n",
       " 'getXmpMetadata',\n",
       " 'isEncrypted',\n",
       " 'namedDestinations',\n",
       " 'numPages',\n",
       " 'outlines',\n",
       " 'pageLayout',\n",
       " 'pageMode',\n",
       " 'pages',\n",
       " 'read',\n",
       " 'readNextEndLine',\n",
       " 'readObjectHeader',\n",
       " 'resolvedObjects',\n",
       " 'stream',\n",
       " 'strict',\n",
       " 'trailer',\n",
       " 'xmpMetadata',\n",
       " 'xref',\n",
       " 'xrefIndex',\n",
       " 'xref_objStm']"
      ]
     },
     "execution_count": 7,
     "metadata": {},
     "output_type": "execute_result"
    }
   ],
   "source": [
    "dir(reader)"
   ]
  },
  {
   "cell_type": "code",
   "execution_count": 3,
   "metadata": {},
   "outputs": [],
   "source": [
    "tb =  camelot.read_pdf(\"/home/ubuntu/sanctions-scripts/ROC-Industry-Code.pdf\",pages=\"all\",flavor=\"stream\")\n"
   ]
  },
  {
   "cell_type": "code",
   "execution_count": 4,
   "metadata": {},
   "outputs": [
    {
     "data": {
      "text/plain": [
       "58"
      ]
     },
     "execution_count": 4,
     "metadata": {},
     "output_type": "execute_result"
    }
   ],
   "source": [
    "len(tb)"
   ]
  },
  {
   "cell_type": "code",
   "execution_count": 5,
   "metadata": {},
   "outputs": [],
   "source": [
    "nic_list = []\n",
    "for t in tb:\n",
    "    for i,r in t.df.iterrows():\n",
    "        # print(r[2])\n",
    "        try:\n",
    "            nic = int(r[2])\n",
    "            nic_list.append(r[2])\n",
    "        except ValueError:\n",
    "            pass\n",
    "        except KeyError:\n",
    "            pass"
   ]
  },
  {
   "cell_type": "code",
   "execution_count": 6,
   "metadata": {},
   "outputs": [
    {
     "data": {
      "text/plain": [
       "916"
      ]
     },
     "execution_count": 6,
     "metadata": {},
     "output_type": "execute_result"
    }
   ],
   "source": [
    "len(nic_list)"
   ]
  },
  {
   "cell_type": "code",
   "execution_count": 7,
   "metadata": {},
   "outputs": [],
   "source": [
    "state_code = [\"AD\",\"AR\",\"AS\",\"BR\",\"CG\",\"DL\",\"GA\",\"GJ\",\"HR\",\"HP\",\"JK\",\"JH\",\"KA\",\"KL\",\"LD\",\"MP\",\"MH\",\"MN\",\"ML\",\"MZ\",\"OD\",\"NL\",\"PB\",\"PY\",\"SK\",\"RJ\",\"TN\",\"TS\",\"TR\",\"UK\",\"UP\",\"WB\",\"AN\",\"CH\",\"DNHDD\",\"LA\",\"OT\"]"
   ]
  },
  {
   "cell_type": "code",
   "execution_count": 8,
   "metadata": {},
   "outputs": [],
   "source": [
    "listing_status = [\"U\",\"L\"]"
   ]
  },
  {
   "cell_type": "code",
   "execution_count": 9,
   "metadata": {},
   "outputs": [],
   "source": [
    "import itertools\n",
    "\n",
    "reg_no_list = []\n",
    "for combination in itertools.product(range(10), repeat=6):\n",
    "    reg_no_list.append(''.join(map(str, combination)))"
   ]
  },
  {
   "cell_type": "code",
   "execution_count": null,
   "metadata": {},
   "outputs": [],
   "source": []
  },
  {
   "cell_type": "code",
   "execution_count": 2,
   "metadata": {},
   "outputs": [],
   "source": [
    "# my_headers = {'x-api-key' : 'BOguclmwJ7','x-api-secret-key':'VGdbqAxigZzq59T9Mmtrg7yIK2cG6dv5t24LUYH5'}\n",
    "my_headers = {}\n",
    "\n",
    "def Company_to_CIN(CompanyName):\n",
    "    response = requests.get(f'https://api.finanvo.in/search/company?query={CompanyName}', headers=my_headers)\n",
    "    data=response.json()\n",
    "    return data['data']\n",
    "\n",
    "def CIN_to_master_data(CIN):\n",
    "    response = requests.get(f'https://api.finanvo.in/company/profile?CIN={CIN}', headers=my_headers)\n",
    "    data=response.json()\n",
    "    return data['data']\n",
    "\n",
    "def CIN_to_Director(CIN):\n",
    "    response = requests.get(f'https://api.finanvo.in/company/directors?CIN={CIN}', headers=my_headers)\n",
    "    data=response.json()\n",
    "    return data['data']\n",
    "\n",
    "def CIN_to_Charges(CIN):\n",
    "    response = requests.get(f'https://api.finanvo.in/company/charges?CIN={CIN}', headers=my_headers)\n",
    "    data=response.json()\n",
    "    return data['data']"
   ]
  },
  {
   "cell_type": "code",
   "execution_count": 2,
   "metadata": {},
   "outputs": [],
   "source": [
    "import pandas as pd\n",
    "df = pd.read_excel(\"/home/ubuntu/sanctions-scripts/FINOVO/MCA.xlsx\")"
   ]
  },
  {
   "cell_type": "code",
   "execution_count": 3,
   "metadata": {},
   "outputs": [
    {
     "data": {
      "text/html": [
       "<div>\n",
       "<style scoped>\n",
       "    .dataframe tbody tr th:only-of-type {\n",
       "        vertical-align: middle;\n",
       "    }\n",
       "\n",
       "    .dataframe tbody tr th {\n",
       "        vertical-align: top;\n",
       "    }\n",
       "\n",
       "    .dataframe thead th {\n",
       "        text-align: right;\n",
       "    }\n",
       "</style>\n",
       "<table border=\"1\" class=\"dataframe\">\n",
       "  <thead>\n",
       "    <tr style=\"text-align: right;\">\n",
       "      <th></th>\n",
       "      <th>S.No</th>\n",
       "      <th>CIN</th>\n",
       "      <th>Company Name</th>\n",
       "      <th>PAN NUMBER</th>\n",
       "      <th>Strike off Date</th>\n",
       "      <th>SRN</th>\n",
       "      <th>Signatory ID</th>\n",
       "      <th>Director Name</th>\n",
       "    </tr>\n",
       "  </thead>\n",
       "  <tbody>\n",
       "    <tr>\n",
       "      <th>0</th>\n",
       "      <td>1</td>\n",
       "      <td>U80902KL2019OPC056350</td>\n",
       "      <td>ACCELENZY LIDERAZGO (OPC) PRIVATE LIMITED</td>\n",
       "      <td>NaN</td>\n",
       "      <td>NaN</td>\n",
       "      <td>NaN</td>\n",
       "      <td>NaN</td>\n",
       "      <td>NaN</td>\n",
       "    </tr>\n",
       "    <tr>\n",
       "      <th>1</th>\n",
       "      <td>2</td>\n",
       "      <td>U93090KL2020PTC061576</td>\n",
       "      <td>AHZAB IMPEX AND TOURISM PRIVATE LIMITED</td>\n",
       "      <td>NaN</td>\n",
       "      <td>NaN</td>\n",
       "      <td>NaN</td>\n",
       "      <td>NaN</td>\n",
       "      <td>NaN</td>\n",
       "    </tr>\n",
       "    <tr>\n",
       "      <th>2</th>\n",
       "      <td>3</td>\n",
       "      <td>U63040KL2011PTC027766</td>\n",
       "      <td>AL SAFINA HOLIDAYS PRIVATE LIMITED</td>\n",
       "      <td>NaN</td>\n",
       "      <td>NaN</td>\n",
       "      <td>NaN</td>\n",
       "      <td>NaN</td>\n",
       "      <td>NaN</td>\n",
       "    </tr>\n",
       "    <tr>\n",
       "      <th>3</th>\n",
       "      <td>4</td>\n",
       "      <td>U72900KL2017PTC050082</td>\n",
       "      <td>ANCATAG TECHNOLOGIES PRIVATE LIMITED</td>\n",
       "      <td>NaN</td>\n",
       "      <td>NaN</td>\n",
       "      <td>NaN</td>\n",
       "      <td>NaN</td>\n",
       "      <td>NaN</td>\n",
       "    </tr>\n",
       "    <tr>\n",
       "      <th>4</th>\n",
       "      <td>5</td>\n",
       "      <td>U74140KL2013PTC033886</td>\n",
       "      <td>ARMAJARO TRADING (INDIA) PRIVATE LIMITED</td>\n",
       "      <td>NaN</td>\n",
       "      <td>NaN</td>\n",
       "      <td>NaN</td>\n",
       "      <td>NaN</td>\n",
       "      <td>NaN</td>\n",
       "    </tr>\n",
       "  </tbody>\n",
       "</table>\n",
       "</div>"
      ],
      "text/plain": [
       "   S.No                    CIN                               Company Name  \\\n",
       "0     1  U80902KL2019OPC056350  ACCELENZY LIDERAZGO (OPC) PRIVATE LIMITED   \n",
       "1     2  U93090KL2020PTC061576    AHZAB IMPEX AND TOURISM PRIVATE LIMITED   \n",
       "2     3  U63040KL2011PTC027766         AL SAFINA HOLIDAYS PRIVATE LIMITED   \n",
       "3     4  U72900KL2017PTC050082       ANCATAG TECHNOLOGIES PRIVATE LIMITED   \n",
       "4     5  U74140KL2013PTC033886   ARMAJARO TRADING (INDIA) PRIVATE LIMITED   \n",
       "\n",
       "  PAN NUMBER Strike off Date  SRN Signatory ID Director Name  \n",
       "0        NaN             NaN  NaN          NaN           NaN  \n",
       "1        NaN             NaN  NaN          NaN           NaN  \n",
       "2        NaN             NaN  NaN          NaN           NaN  \n",
       "3        NaN             NaN  NaN          NaN           NaN  \n",
       "4        NaN             NaN  NaN          NaN           NaN  "
      ]
     },
     "execution_count": 3,
     "metadata": {},
     "output_type": "execute_result"
    }
   ],
   "source": [
    "df.head()"
   ]
  },
  {
   "cell_type": "code",
   "execution_count": null,
   "metadata": {},
   "outputs": [],
   "source": [
    "for i,r in df.iterrows():\n",
    "    print(r[\"Company Name\"])"
   ]
  },
  {
   "cell_type": "code",
   "execution_count": 7,
   "metadata": {},
   "outputs": [
    {
     "data": {
      "text/plain": [
       "[{'DIN': '00704889',\n",
       "  'NAME': 'GOURI DEVI BHANSALI',\n",
       "  'DESIGNATION': 'Director',\n",
       "  'DATE_JOIN': '31/10/2003',\n",
       "  'DATE_RESIGN': '-'},\n",
       " {'DIN': '00704937',\n",
       "  'NAME': 'RAI CHAND BHANSALI',\n",
       "  'DESIGNATION': 'Director',\n",
       "  'DATE_JOIN': '08/12/1997',\n",
       "  'DATE_RESIGN': '-'},\n",
       " {'DIN': '00704952',\n",
       "  'NAME': 'RAJESH RAICHAND BHANSALI',\n",
       "  'DESIGNATION': 'Director',\n",
       "  'DATE_JOIN': '08/12/1997',\n",
       "  'DATE_RESIGN': '-'},\n",
       " {'DIN': '00704978',\n",
       "  'NAME': 'ANITA BHANSALI',\n",
       "  'DESIGNATION': 'Director',\n",
       "  'DATE_JOIN': '01/06/2017',\n",
       "  'DATE_RESIGN': '-'},\n",
       " {'DIN': '00704988',\n",
       "  'NAME': 'ANITA BHANSALI',\n",
       "  'DESIGNATION': 'Director',\n",
       "  'DATE_JOIN': '31/10/2003',\n",
       "  'DATE_RESIGN': '-'},\n",
       " {'DIN': '01182865',\n",
       "  'NAME': 'NEELESH BHANSALI',\n",
       "  'DESIGNATION': '',\n",
       "  'DATE_JOIN': '13/11/1997',\n",
       "  'DATE_RESIGN': '-'},\n",
       " {'DIN': '01971757',\n",
       "  'NAME': 'SURESH BHANSALI',\n",
       "  'DESIGNATION': 'Director',\n",
       "  'DATE_JOIN': '01/10/2012',\n",
       "  'DATE_RESIGN': '-'},\n",
       " {'DIN': '02538803',\n",
       "  'NAME': 'PRATIK SURESH BHANSALI',\n",
       "  'DESIGNATION': 'Director',\n",
       "  'DATE_JOIN': '21/02/2009',\n",
       "  'DATE_RESIGN': '-'},\n",
       " {'DIN': '02538807',\n",
       "  'NAME': 'GULAB BHANSALI',\n",
       "  'DESIGNATION': 'Director',\n",
       "  'DATE_JOIN': '21/02/2009',\n",
       "  'DATE_RESIGN': '-'},\n",
       " {'DIN': '06703453',\n",
       "  'NAME': 'HIMANSHU RAJESH BHANSALI',\n",
       "  'DESIGNATION': 'Director',\n",
       "  'DATE_JOIN': '07/02/2014',\n",
       "  'DATE_RESIGN': '-'}]"
      ]
     },
     "execution_count": 7,
     "metadata": {},
     "output_type": "execute_result"
    }
   ],
   "source": [
    "CIN_to_Director(\"U27107RJ1997PTC014425\")"
   ]
  },
  {
   "cell_type": "code",
   "execution_count": 19,
   "metadata": {},
   "outputs": [
    {
     "data": {
      "text/html": [
       "<div>\n",
       "<style scoped>\n",
       "    .dataframe tbody tr th:only-of-type {\n",
       "        vertical-align: middle;\n",
       "    }\n",
       "\n",
       "    .dataframe tbody tr th {\n",
       "        vertical-align: top;\n",
       "    }\n",
       "\n",
       "    .dataframe thead th {\n",
       "        text-align: right;\n",
       "    }\n",
       "</style>\n",
       "<table border=\"1\" class=\"dataframe\">\n",
       "  <thead>\n",
       "    <tr style=\"text-align: right;\">\n",
       "      <th></th>\n",
       "      <th>0</th>\n",
       "      <th>1</th>\n",
       "      <th>2</th>\n",
       "      <th>3</th>\n",
       "      <th>4</th>\n",
       "      <th>5</th>\n",
       "      <th>6</th>\n",
       "      <th>7</th>\n",
       "    </tr>\n",
       "  </thead>\n",
       "  <tbody>\n",
       "    <tr>\n",
       "      <th>0</th>\n",
       "      <td>26</td>\n",
       "      <td>R\\nChaitanya Commodities Private Limited \\negi...</td>\n",
       "      <td>AADCC8650J</td>\n",
       "      <td>40660</td>\n",
       "      <td>SEBI Registration no.– \\nINZ000052730</td>\n",
       "      <td>22-06-2021</td>\n",
       "      <td>S\\n   \\nName of the Directors as per Exchange ...</td>\n",
       "      <td>The Member has been expelled from \\nthe  Membe...</td>\n",
       "    </tr>\n",
       "    <tr>\n",
       "      <th>1</th>\n",
       "      <td>27</td>\n",
       "      <td>R\\n Arcadia Commodities &amp; Trading  \\negistered...</td>\n",
       "      <td>AAKFA1192M</td>\n",
       "      <td>10950</td>\n",
       "      <td>SEBI Registration no. – \\nINZ000048620</td>\n",
       "      <td>16-07-2021</td>\n",
       "      <td>P\\nName  of  the  Managing  Partners  as  per ...</td>\n",
       "      <td>The Member has been expelled from \\nthe  Membe...</td>\n",
       "    </tr>\n",
       "    <tr>\n",
       "      <th>2</th>\n",
       "      <td>28</td>\n",
       "      <td>R\\n  C\\nSumpoorna Comtrade Private Limited  \\n...</td>\n",
       "      <td>AAPCS1489R</td>\n",
       "      <td>46150</td>\n",
       "      <td>SEBI Registration no. – \\nINZ000037836</td>\n",
       "      <td>24-08-2021</td>\n",
       "      <td>S\\nName of the Directors as per Exchange recor...</td>\n",
       "      <td>The Member has been expelled from \\nthe  Membe...</td>\n",
       "    </tr>\n",
       "    <tr>\n",
       "      <th>3</th>\n",
       "      <td>29.</td>\n",
       "      <td>R\\n  C\\nGrovalue Commodity Private Ltd \\negist...</td>\n",
       "      <td>AAFCG2360M</td>\n",
       "      <td>55195</td>\n",
       "      <td>SEBI Registration no. – \\nINZ000031334</td>\n",
       "      <td>25-08-2021</td>\n",
       "      <td>1\\n    S\\nName of the Directors as per Exchang...</td>\n",
       "      <td>The Member has been expelled from \\nthe  Membe...</td>\n",
       "    </tr>\n",
       "    <tr>\n",
       "      <th>4</th>\n",
       "      <td>30</td>\n",
       "      <td>R\\nSunnes Capital India Private Limited \\negis...</td>\n",
       "      <td>AAOCS6977K</td>\n",
       "      <td>55905</td>\n",
       "      <td>SEBI Registration no. – \\nINZ000163232</td>\n",
       "      <td>25-04-2022</td>\n",
       "      <td>1\\n  S\\n  1\\nName of the Directors as per Exch...</td>\n",
       "      <td>The member has been expelled from \\nthe  membe...</td>\n",
       "    </tr>\n",
       "  </tbody>\n",
       "</table>\n",
       "</div>"
      ],
      "text/plain": [
       "     0                                                  1           2      3  \\\n",
       "0   26  R\\nChaitanya Commodities Private Limited \\negi...  AADCC8650J  40660   \n",
       "1   27  R\\n Arcadia Commodities & Trading  \\negistered...  AAKFA1192M  10950   \n",
       "2   28  R\\n  C\\nSumpoorna Comtrade Private Limited  \\n...  AAPCS1489R  46150   \n",
       "3  29.  R\\n  C\\nGrovalue Commodity Private Ltd \\negist...  AAFCG2360M  55195   \n",
       "4   30  R\\nSunnes Capital India Private Limited \\negis...  AAOCS6977K  55905   \n",
       "\n",
       "                                        4           5  \\\n",
       "0   SEBI Registration no.– \\nINZ000052730  22-06-2021   \n",
       "1  SEBI Registration no. – \\nINZ000048620  16-07-2021   \n",
       "2  SEBI Registration no. – \\nINZ000037836  24-08-2021   \n",
       "3  SEBI Registration no. – \\nINZ000031334  25-08-2021   \n",
       "4  SEBI Registration no. – \\nINZ000163232  25-04-2022   \n",
       "\n",
       "                                                   6  \\\n",
       "0  S\\n   \\nName of the Directors as per Exchange ...   \n",
       "1  P\\nName  of  the  Managing  Partners  as  per ...   \n",
       "2  S\\nName of the Directors as per Exchange recor...   \n",
       "3  1\\n    S\\nName of the Directors as per Exchang...   \n",
       "4  1\\n  S\\n  1\\nName of the Directors as per Exch...   \n",
       "\n",
       "                                                   7  \n",
       "0  The Member has been expelled from \\nthe  Membe...  \n",
       "1  The Member has been expelled from \\nthe  Membe...  \n",
       "2  The Member has been expelled from \\nthe  Membe...  \n",
       "3  The Member has been expelled from \\nthe  Membe...  \n",
       "4  The member has been expelled from \\nthe  membe...  "
      ]
     },
     "execution_count": 19,
     "metadata": {},
     "output_type": "execute_result"
    }
   ],
   "source": [
    "tb[2].df.head(10)"
   ]
  }
 ],
 "metadata": {
  "interpreter": {
   "hash": "916dbcbb3f70747c44a77c7bcd40155683ae19c65e1c03b4aa3499c5328201f1"
  },
  "kernelspec": {
   "display_name": "Python 3.8.10 64-bit",
   "language": "python",
   "name": "python3"
  },
  "language_info": {
   "codemirror_mode": {
    "name": "ipython",
    "version": 3
   },
   "file_extension": ".py",
   "mimetype": "text/x-python",
   "name": "python",
   "nbconvert_exporter": "python",
   "pygments_lexer": "ipython3",
   "version": "3.8.10"
  },
  "orig_nbformat": 4
 },
 "nbformat": 4,
 "nbformat_minor": 2
}
