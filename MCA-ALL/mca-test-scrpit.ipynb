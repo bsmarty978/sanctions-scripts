{
 "cells": [
  {
   "cell_type": "code",
   "execution_count": null,
   "metadata": {},
   "outputs": [],
   "source": [
    "#NOTE LIBRARIES to IMPORT\n",
    "import requests\n",
    "import json\n",
    "import string\n",
    "from scrapy.http import HtmlResponse\n"
   ]
  },
  {
   "cell_type": "code",
   "execution_count": null,
   "metadata": {},
   "outputs": [],
   "source": [
    "#NOTE : IDEA\n",
    "url = f\"https://www.mca.gov.in/mcafoportal/cinLookup.do\"\n",
    "\n",
    "# payload = \"companyname=Idea Engine\"\n",
    "payload = {\"companyname\": \"aaa\"}\n",
    "headers = {\n",
    "    'user-agent': 'Mozilla/5.0 (Windows NT 10.0; Win64; x64) AppleWebKit/537.36 (KHTML, like Gecko) Chrome/100.0.4896.75 Safari/537.36',\n",
    "    \"authority\": \"www.mca.gov.in\",\n",
    "    \"content-type\": \"application/x-www-form-urlencoded; charset=UTF-8\",\n",
    "}\n",
    "\n",
    "res = requests.post(url, headers=headers, data=payload)"
   ]
  },
  {
   "cell_type": "code",
   "execution_count": null,
   "metadata": {},
   "outputs": [],
   "source": [
    "import string\n",
    "l = list(string.ascii_lowercase)\n",
    "ml = []\n",
    "for i in l:\n",
    "    for k in l:\n",
    "        for j in l:\n",
    "            ml.append(i+k+j)\n",
    "d_l = []\n",
    "for i1 in range(10):\n",
    "    for i2 in range(10):\n",
    "        for i3 in range(10):\n",
    "            d_l.append(f\"{i1}{i2}{i3}\")\n",
    "\n",
    "ml.extend(d_l)"
   ]
  },
  {
   "cell_type": "code",
   "execution_count": null,
   "metadata": {},
   "outputs": [],
   "source": [
    "url = f\"https://www.mca.gov.in/mcafoportal/cinLookup.do\"\n",
    "main_out_list = []\n",
    "failed_names = []\n",
    "\n",
    "root = \"/home/ubuntu/sanctions-scripts/MCA-ALL/\"\n",
    "c = 0\n",
    "for d in ml:\n",
    "    # if c == 10:\n",
    "    #     break\n",
    "    payload = {\"companyname\": d}\n",
    "    headers = {\n",
    "        'user-agent': 'Mozilla/5.0 (Windows NT 10.0; Win64; x64) AppleWebKit/537.36 (KHTML, like Gecko) Chrome/100.0.4896.75 Safari/537.36',\n",
    "        \"authority\": \"www.mca.gov.in\",\n",
    "        \"content-type\": \"application/x-www-form-urlencoded; charset=UTF-8\",\n",
    "    }\n",
    "\n",
    "    res = requests.post(url, headers=headers, data=payload)\n",
    "    try:\n",
    "        data = json.loads(res.text)[\"companyList\"]\n",
    "        main_out_list.extend(data)\n",
    "    except Exception as e:\n",
    "        print(f\"ERROR FOR : {d}\")\n",
    "        failed_names.append(d)\n",
    "        print(f\"-->{e}\")\n",
    "    # c+=1\n",
    "\n",
    "with open(f\"{root}mca-all-digit.json\", \"w\",encoding='utf-8') as outfile:\n",
    "    json.dump(main_out_list, outfile, ensure_ascii=False, indent=4)\n",
    "\n",
    "with open(f\"{root}failed_names-digit.json\", \"w\",encoding='utf-8') as outfile:\n",
    "    json.dump(failed_names, outfile, ensure_ascii=False, indent=4)"
   ]
  },
  {
   "cell_type": "code",
   "execution_count": null,
   "metadata": {},
   "outputs": [
    {
     "ename": "",
     "evalue": "",
     "output_type": "error",
     "traceback": [
      "\u001b[1;31mFailed to start the Kernel. \n",
      "Unable to start Kernel 'Python 3.8.10 64-bit' due to connection timeout. \n",
      "View Jupyter <a href='command:jupyter.viewOutput'>log</a> for further details."
     ]
    }
   ],
   "source": [
    "import json\n",
    "data = json.load(open(\"mca-all-digit.json\"))"
   ]
  },
  {
   "cell_type": "code",
   "execution_count": null,
   "metadata": {},
   "outputs": [
    {
     "ename": "",
     "evalue": "",
     "output_type": "error",
     "traceback": [
      "\u001b[1;31mFailed to start the Kernel. \n",
      "Unable to start Kernel 'Python 3.8.10 64-bit' due to connection timeout. \n",
      "View Jupyter <a href='command:jupyter.viewOutput'>log</a> for further details."
     ]
    }
   ],
   "source": [
    "len(data)"
   ]
  },
  {
   "cell_type": "code",
   "execution_count": null,
   "metadata": {},
   "outputs": [
    {
     "ename": "",
     "evalue": "",
     "output_type": "error",
     "traceback": [
      "\u001b[1;31mFailed to start the Kernel. \n",
      "Unable to start Kernel 'Python 3.8.10 64-bit' due to connection timeout. \n",
      "View Jupyter <a href='command:jupyter.viewOutput'>log</a> for further details."
     ]
    }
   ],
   "source": [
    "cids = []\n",
    "cnames = []\n",
    "for i in data:\n",
    "    cids.append(i[\"companyID\"])\n",
    "    cnames.append(i[\"companyName\"])"
   ]
  },
  {
   "cell_type": "code",
   "execution_count": null,
   "metadata": {},
   "outputs": [
    {
     "ename": "",
     "evalue": "",
     "output_type": "error",
     "traceback": [
      "\u001b[1;31mFailed to start the Kernel. \n",
      "Unable to start Kernel 'Python 3.8.10 64-bit' due to connection timeout. \n",
      "View Jupyter <a href='command:jupyter.viewOutput'>log</a> for further details."
     ]
    }
   ],
   "source": [
    "print(len(list(set(cids))))\n",
    "print(len(list(set(cnames))))\n"
   ]
  },
  {
   "cell_type": "code",
   "execution_count": null,
   "metadata": {},
   "outputs": [],
   "source": [
    "import pandas as pd\n",
    "raw_data = pd.DataFrame(data)"
   ]
  },
  {
   "cell_type": "code",
   "execution_count": null,
   "metadata": {},
   "outputs": [],
   "source": [
    "raw_data.drop_duplicates()"
   ]
  }
 ],
 "metadata": {
  "interpreter": {
   "hash": "916dbcbb3f70747c44a77c7bcd40155683ae19c65e1c03b4aa3499c5328201f1"
  },
  "kernelspec": {
   "display_name": "Python 3.8.10 64-bit",
   "language": "python",
   "name": "python3"
  },
  "language_info": {
   "name": "python",
   "version": "3.8.10"
  },
  "orig_nbformat": 4
 },
 "nbformat": 4,
 "nbformat_minor": 2
}
