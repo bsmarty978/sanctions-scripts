{
 "cells": [
  {
   "cell_type": "code",
   "execution_count": 1,
   "metadata": {},
   "outputs": [],
   "source": [
    "import requests\n",
    "import json\n",
    "from datetime import datetime\n",
    "from scrapy.http import HtmlResponse\n",
    "import hashlib"
   ]
  },
  {
   "cell_type": "code",
   "execution_count": 2,
   "metadata": {},
   "outputs": [],
   "source": [
    "curr_time = datetime.now().strftime(\"%Y-%m-%dT%H:%M:%S\")\n",
    "\n",
    "def get_hash(n):\n",
    "\n",
    "    return hashlib.sha256(((n+\"Dubai Financial Services Authority Delisted Securities, UAE\" + \"ARE_E20368\").lower()).encode()).hexdigest()"
   ]
  },
  {
   "cell_type": "code",
   "execution_count": 10,
   "metadata": {},
   "outputs": [],
   "source": [
    "p = 1\n",
    "data = []\n",
    "while p<10: \n",
    "    url = f'https://www.dfsa.ae/what-we-do/dfsa-listing-authority/delisted-securities?&ccm_paging_p={p}'\n",
    "\n",
    "    r = requests.get(url)\n",
    "\n",
    "    resp = HtmlResponse('example.com', body = r.text, encoding = 'utf-8')\n",
    "\n",
    "    for a in resp.xpath('//div/div/div[2]/a'):\n",
    "        data_dict={}\n",
    "        name = a.xpath('./div[1]/p/text()').get()\n",
    "        name = name.split('(')\n",
    "        name = name[0].strip()\n",
    "        security = a.xpath('./div[2]/p/text()').get().strip()\n",
    "        exchange = a.xpath('./div[3]/p/text()').get().strip()\n",
    "        isin = a.xpath('./div[4]/p/text()').get()\n",
    "        terminate_date = a.xpath('./div[5]/p/text()').get()\n",
    "        data_dict['uid'] = get_hash(name)\n",
    "        data_dict['name'] = name\n",
    "        data_dict['alias_name'] = []\n",
    "        data_dict['list_type'] = 'Entity'\n",
    "        data_dict['last_updated'] = curr_time\n",
    "        data_dict['nns_status'] = 'False'\n",
    "        data_dict['sanction_details'] = {'termination_date':terminate_date}\n",
    "        data_dict['entity_details'] = {'security_type':security,'exchange_name':exchange}\n",
    "        data_dict['country']=[]\n",
    "        data_dict['address'] = [{'complete_addrss':'','country':''}]\n",
    "        data_dict['documents'] = {'ISIN': [isin.strip()]}\n",
    "        data_dict['comment'] = ''\n",
    "        data_dict[\"sanction_list\"]= {\n",
    "            \"sl_authority\": \"Dubai Financial Services Authority, UAE\",\n",
    "            \"sl_url\": \"https://www.dfsa.ae/what-we-do/dfsa-listing-authority/delisted-securities\",\n",
    "            \"sl_host_country\": \"UAE\",\n",
    "            \"sl_type\": \"Sanctions\",\n",
    "            \"watch_list\": \"EMEA Watchlists\",\n",
    "            \"sl_source\": \"Dubai Financial Services Authority Delisted Securities, UAE\",\n",
    "            \"sl_description\": \"List of securities delisted from its Exchange by Dubai Financial Services Authority, UAE\",\n",
    "            \"list_id\": \"ARE_E20368\"\n",
    "\n",
    "        }\n",
    "        data.append(data_dict)\n",
    "    p+=1"
   ]
  },
  {
   "cell_type": "code",
   "execution_count": 11,
   "metadata": {},
   "outputs": [],
   "source": [
    "with open('result_sng931.json', 'w', encoding=\"utf-8\") as file:\n",
    "    json.dump(data, file, ensure_ascii=False, indent=2, default=str)"
   ]
  }
 ],
 "metadata": {
  "kernelspec": {
   "display_name": "Python 3.8.10 64-bit",
   "language": "python",
   "name": "python3"
  },
  "language_info": {
   "codemirror_mode": {
    "name": "ipython",
    "version": 3
   },
   "file_extension": ".py",
   "mimetype": "text/x-python",
   "name": "python",
   "nbconvert_exporter": "python",
   "pygments_lexer": "ipython3",
   "version": "3.8.10"
  },
  "orig_nbformat": 4,
  "vscode": {
   "interpreter": {
    "hash": "916dbcbb3f70747c44a77c7bcd40155683ae19c65e1c03b4aa3499c5328201f1"
   }
  }
 },
 "nbformat": 4,
 "nbformat_minor": 2
}
