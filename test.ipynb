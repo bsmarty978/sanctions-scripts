{
 "cells": [
  {
   "cell_type": "code",
   "execution_count": 58,
   "metadata": {},
   "outputs": [],
   "source": [
    "import requests\n",
    "import json\n",
    "from scrapy.http import HtmlResponse\n",
    "\n",
    "url = f\"https://info.securities-administrators.ca/disciplinedpersons.aspx\"\n",
    "\n",
    "payload = \"__EVENTTARGET: ctl00$bodyContent$lbtnNext2\"\n",
    "headers = {\n",
    "    'user-agent': 'Mozilla/5.0 (Windows NT 10.0; Win64; x64) AppleWebKit/537.36 (KHTML, like Gecko) Chrome/100.0.4896.75 Safari/537.36',\n",
    "}\n",
    "\n",
    "res = requests.post(url, headers=headers, data=payload)\n"
   ]
  },
  {
   "cell_type": "code",
   "execution_count": 7,
   "metadata": {},
   "outputs": [
    {
     "data": {
      "text/plain": [
       "[1, 3, 54]"
      ]
     },
     "execution_count": 7,
     "metadata": {},
     "output_type": "execute_result"
    }
   ],
   "source": [
    "l = [3,54,1]\n",
    "l.sort()\n",
    "l"
   ]
  },
  {
   "cell_type": "code",
   "execution_count": 59,
   "metadata": {},
   "outputs": [],
   "source": [
    "ress = HtmlResponse(\"example.com\",body=res.text,encoding='utf-8')\n"
   ]
  },
  {
   "cell_type": "code",
   "execution_count": 60,
   "metadata": {},
   "outputs": [
    {
     "name": "stdout",
     "output_type": "stream",
     "text": [
      "\n",
      "\n",
      "\n",
      "Xin, Xiao Feng\n",
      "April 13, 2022\n",
      "Person\n",
      "Liang, Zichao\n",
      "April 08, 2022\n",
      "Person\n",
      "Xia, Qingyang\n",
      "April 08, 2022\n",
      "Person\n",
      "HRU Financials Ltd.\n",
      "April 08, 2022\n",
      "Company\n",
      "HRU Mortgage Investment Corporation\n",
      "April 08, 2022\n",
      "Company\n",
      "Lam, Yau Ling\n",
      "April 08, 2022\n",
      "Person\n",
      "Kwak, Yeram\n",
      "April 07, 2022\n",
      "Person\n",
      "Marin, Liliana Teresa\n",
      "April 06, 2022\n",
      "Person\n",
      "Nichol, David Wayne\n",
      "April 05, 2022\n",
      "Person\n",
      "Kachur, Kane Michael\n",
      "April 04, 2022\n",
      "Person\n"
     ]
    }
   ],
   "source": [
    "for i in ress.xpath(\"//table[@id='bodyContent_gv_list']//tr\"):\n",
    "    print(i.xpath(\"normalize-space(.//td[1]/a//text())\").get())\n",
    "    print(i.xpath(\"normalize-space(.//td[2]/span/text())\").get())\n",
    "    print(i.xpath(\"normalize-space(.//td[3]/span/text())\").get())"
   ]
  },
  {
   "cell_type": "code",
   "execution_count": 45,
   "metadata": {},
   "outputs": [],
   "source": [
    "import requests\n",
    "\n",
    "r = requests.get(\"https://apps.sfc.hk/edistributionWeb/gateway/EN/news-and-announcements/news/enforcement-news/doc?refNo=22PR25\")"
   ]
  },
  {
   "cell_type": "code",
   "execution_count": 1,
   "metadata": {},
   "outputs": [],
   "source": [
    "import json\n",
    "import requests\n",
    "from scrapy.http import HtmlResponse\n",
    "import hashlib\n",
    "\n",
    "url = \"https://www.nationalsecurity.gov.au/what-australia-is-doing/terrorist-organisations/listed-terrorist-organisations\"\n",
    "res = requests.get(url)\n",
    "\n",
    "ress = HtmlResponse(\"example.com\",body=res.text,encoding='utf-8')\n",
    "# soup = BeautifulSoup(res.content,'lxml')\n"
   ]
  },
  {
   "cell_type": "code",
   "execution_count": 15,
   "metadata": {},
   "outputs": [
    {
     "name": "stdout",
     "output_type": "stream",
     "text": [
      "Abu Sayyaf Group (ASG)\n",
      "Al-Qa’ida (AQ)\n",
      "Al-Qa’ida in the Arabian Peninsula (AQAP)\n",
      "Al-Qa’ida in the Indian Subcontinent (AQIS)\n",
      "Al-Qa’ida in the Lands of the Islamic Maghreb (AQIM)\n",
      "Al-Shabaab\n",
      "Boko Haram\n",
      "Hamas\n",
      "Hay'at Tahrir al-Sham\n",
      "Hizballah\n",
      "Hurras al-Din\n",
      "Islamic State\n",
      "Islamic State East Asia\n",
      "Islamic State in Libya (IS-Libya)\n",
      "Islamic State Khorasan Province\n",
      "Islamic State Sinai Province (IS-Sinai)\n",
      "Islamic State Somalia (IS-Somalia)\n",
      "Islamic State West Africa Province\n",
      "Jaish-e-Mohammad\n",
      "Jama’at Mujahideen Bangladesh\n",
      "Jama’at Nusrat al-Islam wal-Muslimin\n",
      "Jemaah Islamiyah (JI)\n",
      "Kurdistan Workers’ Party (PKK)\n",
      "Lashkar-e-Tayyiba\n",
      "National Socialist Order (NSO)\n",
      "Neo-Jama'at Mujahideen Bangladesh\n",
      "Palestinian Islamic Jihad\n",
      "Sonnenkrieg Division\n",
      "The Base\n"
     ]
    }
   ],
   "source": [
    "for i in ress.xpath(\"//tbody/tr\"):\n",
    "    print(i.xpath(\"./td[1]//text()\").getall()[-1])"
   ]
  }
 ],
 "metadata": {
  "interpreter": {
   "hash": "916dbcbb3f70747c44a77c7bcd40155683ae19c65e1c03b4aa3499c5328201f1"
  },
  "kernelspec": {
   "display_name": "Python 3.8.10 64-bit",
   "language": "python",
   "name": "python3"
  },
  "language_info": {
   "codemirror_mode": {
    "name": "ipython",
    "version": 3
   },
   "file_extension": ".py",
   "mimetype": "text/x-python",
   "name": "python",
   "nbconvert_exporter": "python",
   "pygments_lexer": "ipython3",
   "version": "3.8.10"
  },
  "orig_nbformat": 4
 },
 "nbformat": 4,
 "nbformat_minor": 2
}
