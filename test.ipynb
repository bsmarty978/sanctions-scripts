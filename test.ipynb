{
 "cells": [
  {
   "cell_type": "code",
   "execution_count": 25,
   "metadata": {},
   "outputs": [],
   "source": [
    "import requests\n",
    "import json\n",
    "from scrapy.http import HtmlResponse\n",
    "import os\n",
    "import datetime\n",
    "import boto3\n",
    "import copy\n",
    "import hashlib\n",
    "\n",
    "url = f\"https://rewardsforjustice.net/index/?jsf=jet-engine:rewards-grid&tax=cyber:857&pagenum=1&nocache=1650868733\"\n",
    "# url = f\"https://rewardsforjustice.net/index/?jsf=jet-engine%3Arewards-grid&tax=crime-category%3A1073&pagenum=1&nocache=1650868733\"\n",
    "\n",
    "payload = \"action=jet_engine_ajax&handler=get_listing&page_settings%5Bpost_id%5D=22076&page_settings%5Bqueried_id%5D=22076%7CWP_Post&page_settings%5Belement_id%5D=ddd7ae9&page_settings%5Bpage%5D=1&listing_type=elementor&isEditMode=false&addedPostCSS%5B%5D=22078\"\n",
    "headers = {\n",
    "    'authority': 'rewardsforjustice.net',\n",
    "    'method': 'POST',\n",
    "    'accept': 'application/json, text/javascript, */*; q=0.01',\n",
    "    'accept-encoding': 'gzip, deflate, br',\n",
    "    'accept-language': 'en-IN,en-GB;q=0.9,en-US;q=0.8,en;q=0.7,hi;q=0.6,gu;q=0.5',\n",
    "    'content-type': 'application/x-www-form-urlencoded; charset=UTF-8',\n",
    "    'user-agent': 'Mozilla/5.0 (Windows NT 10.0; Win64; x64) AppleWebKit/537.36 (KHTML, like Gecko) Chrome/100.0.4896.75 Safari/537.36',\n",
    "    'x-requested-with': 'XMLHttpRequest'\n",
    "}\n",
    "\n",
    "res = requests.post(url, headers=headers, data=payload)\n",
    "body = json.loads(res.text)\n",
    "data = body['data']['html']"
   ]
  },
  {
   "cell_type": "code",
   "execution_count": 1,
   "metadata": {},
   "outputs": [],
   "source": [
    "import json\n",
    "import requests\n",
    "from scrapy.http import HtmlResponse\n",
    "import hashlib\n",
    "\n",
    "url = \"https://www.nationalsecurity.gov.au/what-australia-is-doing/terrorist-organisations/listed-terrorist-organisations\"\n",
    "res = requests.get(url)\n",
    "\n",
    "ress = HtmlResponse(\"example.com\",body=res.text,encoding='utf-8')\n",
    "# soup = BeautifulSoup(res.content,'lxml')\n"
   ]
  },
  {
   "cell_type": "code",
   "execution_count": 15,
   "metadata": {},
   "outputs": [
    {
     "name": "stdout",
     "output_type": "stream",
     "text": [
      "Abu Sayyaf Group (ASG)\n",
      "Al-Qa’ida (AQ)\n",
      "Al-Qa’ida in the Arabian Peninsula (AQAP)\n",
      "Al-Qa’ida in the Indian Subcontinent (AQIS)\n",
      "Al-Qa’ida in the Lands of the Islamic Maghreb (AQIM)\n",
      "Al-Shabaab\n",
      "Boko Haram\n",
      "Hamas\n",
      "Hay'at Tahrir al-Sham\n",
      "Hizballah\n",
      "Hurras al-Din\n",
      "Islamic State\n",
      "Islamic State East Asia\n",
      "Islamic State in Libya (IS-Libya)\n",
      "Islamic State Khorasan Province\n",
      "Islamic State Sinai Province (IS-Sinai)\n",
      "Islamic State Somalia (IS-Somalia)\n",
      "Islamic State West Africa Province\n",
      "Jaish-e-Mohammad\n",
      "Jama’at Mujahideen Bangladesh\n",
      "Jama’at Nusrat al-Islam wal-Muslimin\n",
      "Jemaah Islamiyah (JI)\n",
      "Kurdistan Workers’ Party (PKK)\n",
      "Lashkar-e-Tayyiba\n",
      "National Socialist Order (NSO)\n",
      "Neo-Jama'at Mujahideen Bangladesh\n",
      "Palestinian Islamic Jihad\n",
      "Sonnenkrieg Division\n",
      "The Base\n"
     ]
    }
   ],
   "source": [
    "for i in ress.xpath(\"//tbody/tr\"):\n",
    "    print(i.xpath(\"./td[1]//text()\").getall()[-1])"
   ]
  }
 ],
 "metadata": {
  "interpreter": {
   "hash": "916dbcbb3f70747c44a77c7bcd40155683ae19c65e1c03b4aa3499c5328201f1"
  },
  "kernelspec": {
   "display_name": "Python 3.8.10 64-bit",
   "language": "python",
   "name": "python3"
  },
  "language_info": {
   "codemirror_mode": {
    "name": "ipython",
    "version": 3
   },
   "file_extension": ".py",
   "mimetype": "text/x-python",
   "name": "python",
   "nbconvert_exporter": "python",
   "pygments_lexer": "ipython3",
   "version": "3.8.10"
  },
  "orig_nbformat": 4
 },
 "nbformat": 4,
 "nbformat_minor": 2
}
