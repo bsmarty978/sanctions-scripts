{
 "cells": [
  {
   "cell_type": "code",
   "execution_count": 6,
   "metadata": {},
   "outputs": [],
   "source": [
    "import json\n",
    "import pandas as pd\n",
    "from string import punctuation\n",
    "from datetime import datetime,date,timedelta\n",
    "import hashlib\n",
    "pu = list(punctuation)\n",
    "last_updated_string = datetime.now().strftime(\"%Y-%m-%dT%H:%M:%S\")"
   ]
  },
  {
   "cell_type": "code",
   "execution_count": 2,
   "metadata": {},
   "outputs": [],
   "source": [
    "main_df = pd.read_excel(\"/home/ubuntu/sanctions-scripts/FINOVO/MCA.xlsx\")"
   ]
  },
  {
   "cell_type": "code",
   "execution_count": 8,
   "metadata": {},
   "outputs": [],
   "source": [
    "def get_hash(n):\n",
    "    return hashlib.sha256(((n+ \"MCA Shell (SEBI)\").lower()).encode()).hexdigest()"
   ]
  },
  {
   "cell_type": "code",
   "execution_count": 9,
   "metadata": {},
   "outputs": [
    {
     "name": "stdout",
     "output_type": "stream",
     "text": [
      "U80902KL2019OPC056350 -> ACCELENZY LIDERAZGO (OPC) PRIVATE LIMITED\n",
      "U93090KL2020PTC061576 -> AHZAB IMPEX AND TOURISM PRIVATE LIMITED\n",
      "U63040KL2011PTC027766 -> AL SAFINA HOLIDAYS PRIVATE LIMITED\n",
      "U72900KL2017PTC050082 -> ANCATAG TECHNOLOGIES PRIVATE LIMITED\n",
      "U74140KL2013PTC033886 -> ARMAJARO TRADING (INDIA) PRIVATE LIMITED\n"
     ]
    }
   ],
   "source": [
    "mc = 0\n",
    "out_list = []\n",
    "for i,r in main_df.iterrows():\n",
    "    pcin = r[\"CIN\"]\n",
    "    cname = r[\"Company Name\"]\n",
    "    pc = True\n",
    "    for p in pu:\n",
    "        if p in str(pcin):\n",
    "            pc=False\n",
    "    if pc:\n",
    "        mc +=1\n",
    "        print(f\"{pcin} -> {cname}\")\n",
    "        d = {\n",
    "            \"uid\": get_hash(cname+str(pcin)),\n",
    "            \"name\": cname,\n",
    "            \"alias_name\": [],\n",
    "            \"country\": [\"India\"],\n",
    "            \"list_type\": \"Entity\",\n",
    "            \"entity_details\" : {},\n",
    "            \"last_updated\": last_updated_string,\n",
    "            \"nns_status\": \"False\",\n",
    "            \"address\": [\n",
    "                {\n",
    "                \"country\": \"\",\n",
    "                \"complete_address\": \"\"\n",
    "                }\n",
    "            ],\n",
    "            \"sanction_details\":{},\n",
    "            \"documents\": {\n",
    "                \"CIN\" : str(pcin)\n",
    "            },\n",
    "            \"comment\": \"\",\n",
    "            \"sanction_list\" : {\n",
    "                \"sl_authority\" : \"Securities and Exchange Board of India(SEBI)\",\n",
    "                \"sl_url\" : \"https://www.sebi.gov.in/\",\n",
    "                \"watch_list\" : \"India Watchlists\",\n",
    "                \"sl_host_country\" : \"India\",\n",
    "                \"sl_type\" : \"Shell corporation\",\n",
    "                \"sl_source\" : \"Shell (SEBI)\",\n",
    "                \"sl_description\" : \"Securities and Exchange Board of India (SEBI) is a statutory regulatory body entrusted with the responsibility to regulate the Indian capital markets. It monitors and regulates the securities market and protects the interests of the investors by enforcing certain rules and regulations.SEBI was founded on April 12, 1992, under the SEBI Act, 1992. Headquartered in Mumbai, India, SEBI has regional offices in New Delhi, Chennai, Kolkata and Ahmedabad along with other local regional offices across prominent cities in India.The objective of SEBI is to ensure that the Indian capital market works in a systematic manner and provide investors with a transparent environment for their investment. To put it simply, the primary reason for setting up SEBI was to prevent malpractices in the capital market of India and promote the development of the capital markets.\"\n",
    "            }\n",
    "        }\n",
    "        out_list.append(d)\n",
    "    if mc >= 200000:\n",
    "        break\n"
   ]
  },
  {
   "cell_type": "code",
   "execution_count": 11,
   "metadata": {},
   "outputs": [
    {
     "data": {
      "text/plain": [
       "{'uid': '1c2793b96570d85c4133a0ce11aa7636bbab1c486aba27c20d75d900dc8349c2',\n",
       " 'name': 'ACCELENZY LIDERAZGO (OPC) PRIVATE LIMITED',\n",
       " 'alias_name': [],\n",
       " 'country': ['India'],\n",
       " 'list_type': 'Entity',\n",
       " 'entity_details': {},\n",
       " 'last_updated': '2022-06-14T09:58:25',\n",
       " 'nns_status': 'False',\n",
       " 'address': [{'country': '', 'complete_address': ''}],\n",
       " 'sanction_details': {},\n",
       " 'documents': {'CIN': 'U80902KL2019OPC056350'},\n",
       " 'comment': '',\n",
       " 'sanction_list': {'sl_authority': 'Securities and Exchange Board of India(SEBI)',\n",
       "  'sl_url': 'https://www.sebi.gov.in/',\n",
       "  'watch_list': 'India Watchlists',\n",
       "  'sl_host_country': 'India',\n",
       "  'sl_type': 'Shell corporation',\n",
       "  'sl_source': 'Shell (SEBI)',\n",
       "  'sl_description': 'Securities and Exchange Board of India (SEBI) is a statutory regulatory body entrusted with the responsibility to regulate the Indian capital markets. It monitors and regulates the securities market and protects the interests of the investors by enforcing certain rules and regulations.SEBI was founded on April 12, 1992, under the SEBI Act, 1992. Headquartered in Mumbai, India, SEBI has regional offices in New Delhi, Chennai, Kolkata and Ahmedabad along with other local regional offices across prominent cities in India.The objective of SEBI is to ensure that the Indian capital market works in a systematic manner and provide investors with a transparent environment for their investment. To put it simply, the primary reason for setting up SEBI was to prevent malpractices in the capital market of India and promote the development of the capital markets.'}}"
      ]
     },
     "execution_count": 11,
     "metadata": {},
     "output_type": "execute_result"
    }
   ],
   "source": [
    "out_list[0]"
   ]
  }
 ],
 "metadata": {
  "kernelspec": {
   "display_name": "Python 3.8.10 64-bit",
   "language": "python",
   "name": "python3"
  },
  "language_info": {
   "codemirror_mode": {
    "name": "ipython",
    "version": 3
   },
   "file_extension": ".py",
   "mimetype": "text/x-python",
   "name": "python",
   "nbconvert_exporter": "python",
   "pygments_lexer": "ipython3",
   "version": "3.8.10"
  },
  "orig_nbformat": 4,
  "vscode": {
   "interpreter": {
    "hash": "916dbcbb3f70747c44a77c7bcd40155683ae19c65e1c03b4aa3499c5328201f1"
   }
  }
 },
 "nbformat": 4,
 "nbformat_minor": 2
}
