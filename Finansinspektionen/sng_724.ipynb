{
 "cells": [
  {
   "cell_type": "code",
   "execution_count": 1,
   "metadata": {},
   "outputs": [],
   "source": [
    "import pandas as pd \n",
    "import datetime\n",
    "import hashlib\n",
    "import json\n",
    "from datetime import datetime\n",
    "from deep_translator import GoogleTranslator"
   ]
  },
  {
   "cell_type": "code",
   "execution_count": 5,
   "metadata": {},
   "outputs": [
    {
     "name": "stdout",
     "output_type": "stream",
     "text": [
      "[{'Name': 'E-CRYPTO TRADE', 'Date': datetime.datetime(2022, 2, 9, 0, 0), 'Link': 'https://www.fca.org.uk/news/warnings/e-crypto-trade '}, {'Name': 'CryptoLand', 'Date': datetime.datetime(2022, 2, 10, 0, 0), 'Link': 'https://www.cssf.lu/en/2022/02/warning-regarding-the-activities-of-an-entity-named-cryptoland/ '}, {'Name': 'Arcofx', 'Date': datetime.datetime(2022, 2, 10, 0, 0), 'Link': 'https://www.fca.org.uk/news/warnings/arcofx '}, {'Name': 'Abra Forex Group', 'Date': datetime.datetime(2022, 2, 10, 0, 0), 'Link': 'https://www.fca.org.uk/news/warnings/abra-forex-group '}, {'Name': 'vitalfxoption', 'Date': datetime.datetime(2022, 2, 10, 0, 0), 'Link': 'https://www.fca.org.uk/news/warnings/vitalfxoption '}, {'Name': 'Verge Capital Limited (Clone)', 'Date': datetime.datetime(2022, 2, 10, 0, 0), 'Link': 'https://www.centralbank.ie/news/article/press-release-central-bank-of-ireland-issues-warning-on-unauthorised-firm-fraudulent-firm-clones-verge-capital-limited-10-february-2022'}, {'Name': 'IH Global Markets Limited', 'Date': datetime.datetime(2022, 2, 11, 0, 0), 'Link': 'https://www.sfc.hk/en/alert-list/2814 '}, {'Name': 'Forexmindset247', 'Date': datetime.datetime(2022, 2, 10, 0, 0), 'Link': 'https://www.fca.org.uk/news/warnings/forexmindset247 '}, {'Name': 'Elite Crypto FX', 'Date': datetime.datetime(2022, 2, 10, 0, 0), 'Link': 'https://www.fca.org.uk/news/warnings/elite-crypto-fx '}, {'Name': 'Earning More Crypto LTD', 'Date': datetime.datetime(2022, 2, 10, 0, 0), 'Link': 'https://www.fca.org.uk/news/warnings/earning-more-crypto-ltd '}]\n"
     ]
    },
    {
     "name": "stderr",
     "output_type": "stream",
     "text": [
      "C:\\Users\\Dell\\AppData\\Local\\Temp\\ipykernel_10540\\901586957.py:3: FutureWarning: Using short name for 'orient' is deprecated. Only the options: ('dict', list, 'series', 'split', 'records', 'index') will be used in a future version. Use one of the above to silence this warning.\n",
      "  frame_ = df.to_dict(orient=\"record\")\n"
     ]
    }
   ],
   "source": [
    "df = pd.read_excel(r\"C:\\Users\\Dell\\pythonproject\\SNG 724\\sng_724.xlsx\")\n",
    "df.fillna(\"\", inplace=True)\n",
    "frame_ = df.to_dict(orient=\"record\")\n",
    "print(frame_[0:10])"
   ]
  },
  {
   "cell_type": "code",
   "execution_count": 6,
   "metadata": {},
   "outputs": [],
   "source": [
    "def get_hash(n):\n",
    "    return hashlib.sha256(((n+\"Finansinspektionen Unauthorised Financial Companies Warning List, Sweden (European Watchlists SWE_E20258)\").lower()).encode()).hexdigest()\n",
    "    \n",
    "\n",
    "last_updated_string = datetime.now().strftime(\"%Y-%m-%dT%H:%M:%S\") "
   ]
  },
  {
   "cell_type": "code",
   "execution_count": 15,
   "metadata": {},
   "outputs": [],
   "source": [
    "final_list = []\n",
    "for each_rec in frame_:\n",
    "    final_list.append(\n",
    "                        {\n",
    "                                'uid':get_hash(each_rec['Name']),\n",
    "                                'name':each_rec['Name'],\n",
    "                                'alias_name':[], \n",
    "                                'country': \"\",\n",
    "                                'list_type':\"Entity\",\n",
    "                                'last_updated':last_updated_string,\n",
    "                                'list_id':\"SWE_E20258\",    \n",
    "                                'entity_details':{},\n",
    "                                'sanction_details':{\n",
    "                                                         'date':str(each_rec['Date'])       \n",
    "                                        },    \n",
    "                                'nns_status':\"False\",\n",
    "                                'address':[],\n",
    "                                'document':{},\n",
    "                                'comment':\"\",   \n",
    "                                'other_url':each_rec['Link'],\n",
    "                                'sanction_list':{\n",
    "\n",
    "                                                                \"sl_authority\":\"Finansinspektionen, Sweden\",\n",
    "                                                                \"sl_url\":\"https://www.fi.se/sv/vara-register/fis-varningslista/\",\n",
    "                                                                \"watch_list\":\"European Watchlists\",\n",
    "                                                                \"sl_host_country\":\"Sweden\",\n",
    "                                                                \"sl_type\": \"Sanctions\",\n",
    "                                                                \"sl_source\":\"Finansinspektionen Unauthorised Financial Companies Warning List, Sweden\",\n",
    "                                                                \"sl_description\":\"List of Unauthorised Financial Companies by Finansinspektionen, Sweden\",\n",
    "\n",
    "                                                    }\n",
    "                            }\n",
    "        \n",
    "    )"
   ]
  },
  {
   "cell_type": "code",
   "execution_count": 16,
   "metadata": {},
   "outputs": [],
   "source": [
    "with open('SNG 724.json', 'w', encoding=\"utf-8\") as file:\n",
    "    json.dump(final_list, file, ensure_ascii=False, indent=4)"
   ]
  },
  {
   "cell_type": "code",
   "execution_count": null,
   "metadata": {},
   "outputs": [],
   "source": []
  }
 ],
 "metadata": {
  "interpreter": {
   "hash": "d62006d1f3422635846181a997a61e8ec3049f797e5d7dfe0cd1bb84092b7c19"
  },
  "kernelspec": {
   "display_name": "Python 3.9.7 64-bit",
   "language": "python",
   "name": "python3"
  },
  "language_info": {
   "codemirror_mode": {
    "name": "ipython",
    "version": 3
   },
   "file_extension": ".py",
   "mimetype": "text/x-python",
   "name": "python",
   "nbconvert_exporter": "python",
   "pygments_lexer": "ipython3",
   "version": "3.9.7"
  },
  "orig_nbformat": 4
 },
 "nbformat": 4,
 "nbformat_minor": 2
}
